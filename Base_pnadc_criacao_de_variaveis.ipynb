{
 "cells": [
  {
   "cell_type": "markdown",
   "metadata": {},
   "source": [
    "### Importar pacotes"
   ]
  },
  {
   "cell_type": "code",
   "execution_count": 60,
   "metadata": {},
   "outputs": [],
   "source": [
    "import pandas as pd\n",
    "import numpy as np\n",
    "import math"
   ]
  },
  {
   "cell_type": "markdown",
   "metadata": {},
   "source": [
    "### Base de dados Centro-Oeste bruta"
   ]
  },
  {
   "cell_type": "code",
   "execution_count": 61,
   "metadata": {},
   "outputs": [
    {
     "data": {
      "text/html": [
       "<div>\n",
       "<style scoped>\n",
       "    .dataframe tbody tr th:only-of-type {\n",
       "        vertical-align: middle;\n",
       "    }\n",
       "\n",
       "    .dataframe tbody tr th {\n",
       "        vertical-align: top;\n",
       "    }\n",
       "\n",
       "    .dataframe thead th {\n",
       "        text-align: right;\n",
       "    }\n",
       "</style>\n",
       "<table border=\"1\" class=\"dataframe\">\n",
       "  <thead>\n",
       "    <tr style=\"text-align: right;\">\n",
       "      <th></th>\n",
       "      <th>Unnamed: 0</th>\n",
       "      <th>Ano</th>\n",
       "      <th>Trimestre</th>\n",
       "      <th>UF</th>\n",
       "      <th>Capital</th>\n",
       "      <th>RM_RIDE</th>\n",
       "      <th>UPA</th>\n",
       "      <th>Estrato</th>\n",
       "      <th>V1008</th>\n",
       "      <th>V1014</th>\n",
       "      <th>...</th>\n",
       "      <th>VD4030</th>\n",
       "      <th>VD4031</th>\n",
       "      <th>VD4032</th>\n",
       "      <th>VD4033</th>\n",
       "      <th>VD4034</th>\n",
       "      <th>VD4035</th>\n",
       "      <th>VD4036</th>\n",
       "      <th>VD4037</th>\n",
       "      <th>painel</th>\n",
       "      <th>idind</th>\n",
       "    </tr>\n",
       "  </thead>\n",
       "  <tbody>\n",
       "    <tr>\n",
       "      <th>0</th>\n",
       "      <td>0</td>\n",
       "      <td>2013</td>\n",
       "      <td>4</td>\n",
       "      <td>50</td>\n",
       "      <td>NaN</td>\n",
       "      <td>NaN</td>\n",
       "      <td>500000045</td>\n",
       "      <td>5052012</td>\n",
       "      <td>1</td>\n",
       "      <td>2</td>\n",
       "      <td>...</td>\n",
       "      <td>NaN</td>\n",
       "      <td>48.0</td>\n",
       "      <td>48.0</td>\n",
       "      <td>0.0</td>\n",
       "      <td>0.0</td>\n",
       "      <td>48.0</td>\n",
       "      <td>4.0</td>\n",
       "      <td>4.0</td>\n",
       "      <td>2.0</td>\n",
       "      <td>250500000045001001</td>\n",
       "    </tr>\n",
       "    <tr>\n",
       "      <th>1</th>\n",
       "      <td>1</td>\n",
       "      <td>2013</td>\n",
       "      <td>1</td>\n",
       "      <td>50</td>\n",
       "      <td>NaN</td>\n",
       "      <td>NaN</td>\n",
       "      <td>500000045</td>\n",
       "      <td>5052012</td>\n",
       "      <td>1</td>\n",
       "      <td>2</td>\n",
       "      <td>...</td>\n",
       "      <td>NaN</td>\n",
       "      <td>32.0</td>\n",
       "      <td>32.0</td>\n",
       "      <td>0.0</td>\n",
       "      <td>0.0</td>\n",
       "      <td>32.0</td>\n",
       "      <td>2.0</td>\n",
       "      <td>2.0</td>\n",
       "      <td>2.0</td>\n",
       "      <td>250500000045001001</td>\n",
       "    </tr>\n",
       "    <tr>\n",
       "      <th>2</th>\n",
       "      <td>2</td>\n",
       "      <td>2013</td>\n",
       "      <td>2</td>\n",
       "      <td>50</td>\n",
       "      <td>NaN</td>\n",
       "      <td>NaN</td>\n",
       "      <td>500000045</td>\n",
       "      <td>5052012</td>\n",
       "      <td>1</td>\n",
       "      <td>2</td>\n",
       "      <td>...</td>\n",
       "      <td>NaN</td>\n",
       "      <td>48.0</td>\n",
       "      <td>48.0</td>\n",
       "      <td>0.0</td>\n",
       "      <td>0.0</td>\n",
       "      <td>48.0</td>\n",
       "      <td>4.0</td>\n",
       "      <td>4.0</td>\n",
       "      <td>2.0</td>\n",
       "      <td>250500000045001001</td>\n",
       "    </tr>\n",
       "    <tr>\n",
       "      <th>3</th>\n",
       "      <td>3</td>\n",
       "      <td>2013</td>\n",
       "      <td>3</td>\n",
       "      <td>50</td>\n",
       "      <td>NaN</td>\n",
       "      <td>NaN</td>\n",
       "      <td>500000045</td>\n",
       "      <td>5052012</td>\n",
       "      <td>1</td>\n",
       "      <td>2</td>\n",
       "      <td>...</td>\n",
       "      <td>NaN</td>\n",
       "      <td>48.0</td>\n",
       "      <td>48.0</td>\n",
       "      <td>0.0</td>\n",
       "      <td>0.0</td>\n",
       "      <td>48.0</td>\n",
       "      <td>4.0</td>\n",
       "      <td>4.0</td>\n",
       "      <td>2.0</td>\n",
       "      <td>250500000045001001</td>\n",
       "    </tr>\n",
       "    <tr>\n",
       "      <th>4</th>\n",
       "      <td>4</td>\n",
       "      <td>2014</td>\n",
       "      <td>1</td>\n",
       "      <td>50</td>\n",
       "      <td>NaN</td>\n",
       "      <td>NaN</td>\n",
       "      <td>500000045</td>\n",
       "      <td>5052012</td>\n",
       "      <td>1</td>\n",
       "      <td>2</td>\n",
       "      <td>...</td>\n",
       "      <td>NaN</td>\n",
       "      <td>44.0</td>\n",
       "      <td>24.0</td>\n",
       "      <td>0.0</td>\n",
       "      <td>0.0</td>\n",
       "      <td>24.0</td>\n",
       "      <td>3.0</td>\n",
       "      <td>2.0</td>\n",
       "      <td>2.0</td>\n",
       "      <td>250500000045001001</td>\n",
       "    </tr>\n",
       "  </tbody>\n",
       "</table>\n",
       "<p>5 rows × 220 columns</p>\n",
       "</div>"
      ],
      "text/plain": [
       "   Unnamed: 0   Ano  Trimestre  UF  Capital  RM_RIDE        UPA  Estrato  \\\n",
       "0           0  2013          4  50      NaN      NaN  500000045  5052012   \n",
       "1           1  2013          1  50      NaN      NaN  500000045  5052012   \n",
       "2           2  2013          2  50      NaN      NaN  500000045  5052012   \n",
       "3           3  2013          3  50      NaN      NaN  500000045  5052012   \n",
       "4           4  2014          1  50      NaN      NaN  500000045  5052012   \n",
       "\n",
       "   V1008  V1014  ...  VD4030  VD4031  VD4032  VD4033  VD4034  VD4035  VD4036  \\\n",
       "0      1      2  ...     NaN    48.0    48.0     0.0     0.0    48.0     4.0   \n",
       "1      1      2  ...     NaN    32.0    32.0     0.0     0.0    32.0     2.0   \n",
       "2      1      2  ...     NaN    48.0    48.0     0.0     0.0    48.0     4.0   \n",
       "3      1      2  ...     NaN    48.0    48.0     0.0     0.0    48.0     4.0   \n",
       "4      1      2  ...     NaN    44.0    24.0     0.0     0.0    24.0     3.0   \n",
       "\n",
       "   VD4037  painel               idind  \n",
       "0     4.0     2.0  250500000045001001  \n",
       "1     2.0     2.0  250500000045001001  \n",
       "2     4.0     2.0  250500000045001001  \n",
       "3     4.0     2.0  250500000045001001  \n",
       "4     2.0     2.0  250500000045001001  \n",
       "\n",
       "[5 rows x 220 columns]"
      ]
     },
     "execution_count": 61,
     "metadata": {},
     "output_type": "execute_result"
    }
   ],
   "source": [
    "bBruta = pd.read_csv('pnad_centro_oeste_bruto.csv')\n",
    "bBruta.head()"
   ]
  },
  {
   "cell_type": "markdown",
   "metadata": {},
   "source": [
    "##### Número da amostra"
   ]
  },
  {
   "cell_type": "code",
   "execution_count": 62,
   "metadata": {},
   "outputs": [
    {
     "data": {
      "text/plain": [
       "(271541, 220)"
      ]
     },
     "execution_count": 62,
     "metadata": {},
     "output_type": "execute_result"
    }
   ],
   "source": [
    "bBruta.shape"
   ]
  },
  {
   "cell_type": "markdown",
   "metadata": {},
   "source": [
    "### Base de dados Indivíduos com Rendimento Maior Que Zero"
   ]
  },
  {
   "cell_type": "code",
   "execution_count": 63,
   "metadata": {},
   "outputs": [
    {
     "data": {
      "text/plain": [
       "(126930, 220)"
      ]
     },
     "execution_count": 63,
     "metadata": {},
     "output_type": "execute_result"
    }
   ],
   "source": [
    "bRendimento = bBruta[bBruta['VD4019'] > 0]\n",
    "bRendimento.shape"
   ]
  },
  {
   "cell_type": "markdown",
   "metadata": {},
   "source": [
    "### Base de dados Idade entre 14 e 65"
   ]
  },
  {
   "cell_type": "code",
   "execution_count": 64,
   "metadata": {},
   "outputs": [
    {
     "data": {
      "text/plain": [
       "(123939, 220)"
      ]
     },
     "execution_count": 64,
     "metadata": {},
     "output_type": "execute_result"
    }
   ],
   "source": [
    "bpnad = bRendimento[(bRendimento['V2009'] >= 14) & (bRendimento['V2009'] <= 65)]\n",
    "bpnad.shape"
   ]
  },
  {
   "cell_type": "markdown",
   "metadata": {},
   "source": [
    "### Criando variáveis para os exercícios da questão 2"
   ]
  },
  {
   "cell_type": "markdown",
   "metadata": {},
   "source": [
    "#### Salário / hora"
   ]
  },
  {
   "cell_type": "code",
   "execution_count": 67,
   "metadata": {},
   "outputs": [],
   "source": [
    "bpnad.loc[:,'Salario/hora'] = (bpnad.VD4019 / (bpnad.VD4031 * 5))"
   ]
  },
  {
   "cell_type": "markdown",
   "metadata": {},
   "source": [
    "#### Log (salario / hora)"
   ]
  },
  {
   "cell_type": "code",
   "execution_count": 66,
   "metadata": {},
   "outputs": [],
   "source": [
    "bpnad.loc[:,'log(Salario/hora)'] = (bpnad['Salario/hora'].apply(lambda x: math.log10(x)))"
   ]
  },
  {
   "cell_type": "markdown",
   "metadata": {},
   "source": [
    "#### Idade²"
   ]
  },
  {
   "cell_type": "code",
   "execution_count": 68,
   "metadata": {
    "scrolled": true
   },
   "outputs": [],
   "source": [
    "bpnad.loc[:,'Idade_2'] = (bpnad['V2009'] ** 2)"
   ]
  },
  {
   "cell_type": "code",
   "execution_count": 14,
   "metadata": {},
   "outputs": [
    {
     "data": {
      "text/plain": [
       "(123939, 17)"
      ]
     },
     "execution_count": 14,
     "metadata": {},
     "output_type": "execute_result"
    }
   ],
   "source": [
    "bpnad.shape"
   ]
  },
  {
   "cell_type": "markdown",
   "metadata": {},
   "source": [
    "#### Normalizando a coluna V1023 para Capital e a coluna V2007 para Sexo"
   ]
  },
  {
   "cell_type": "code",
   "execution_count": 69,
   "metadata": {},
   "outputs": [],
   "source": [
    "bpnad.loc[:,'V1023'] = bpnad['V1023'].replace([4,3,2], 0)\n",
    "bpnad.loc[:,'V2007'] = bpnad['V2007'].replace(1, 0)\n",
    "bpnad.loc[:,'V2007'] = bpnad['V2007'].replace(2, 1)"
   ]
  },
  {
   "cell_type": "markdown",
   "metadata": {},
   "source": [
    "#### Criando as colunas Preta e Parda como cópia da coluna V2010 (Cor)"
   ]
  },
  {
   "cell_type": "code",
   "execution_count": 70,
   "metadata": {},
   "outputs": [],
   "source": [
    "bpnad.loc[:,'preta'] = (bpnad['V2010']).copy()\n",
    "bpnad.loc[:,'parda'] = (bpnad['V2010']).copy()"
   ]
  },
  {
   "cell_type": "markdown",
   "metadata": {},
   "source": [
    "#### Normalizando as colunas Preta e Parda"
   ]
  },
  {
   "cell_type": "code",
   "execution_count": 71,
   "metadata": {},
   "outputs": [],
   "source": [
    "bpnad.loc[:,'preta'] = bpnad['preta'].replace([1,3,4], 0)\n",
    "bpnad.loc[:,'preta'] = bpnad['preta'].replace([2,5], 1)"
   ]
  },
  {
   "cell_type": "code",
   "execution_count": 72,
   "metadata": {
    "scrolled": true
   },
   "outputs": [],
   "source": [
    "bpnad.loc[:,'parda'] = bpnad['parda'].replace([1,2,3,5], 0)\n",
    "bpnad.loc[:,'parda'] = bpnad['parda'].replace(4, 1)"
   ]
  },
  {
   "cell_type": "markdown",
   "metadata": {},
   "source": [
    "#### Normalizando a coluna V3002 para Frequenta Escola e a coluna V4009 para Mais de Um Trabalho"
   ]
  },
  {
   "cell_type": "code",
   "execution_count": 73,
   "metadata": {},
   "outputs": [],
   "source": [
    "bpnad.loc[:,'V3002'] = bpnad['V3002'].replace(2, 0)"
   ]
  },
  {
   "cell_type": "code",
   "execution_count": 74,
   "metadata": {},
   "outputs": [],
   "source": [
    "bpnad.loc[:,'V4009'] = bpnad['V4009'].replace(1, 0)\n",
    "bpnad.loc[:,'V4009'] = bpnad['V4009'].replace([2,3], 1)"
   ]
  },
  {
   "cell_type": "markdown",
   "metadata": {},
   "source": [
    "#### Normalizando a coluna VD4008 para Servidor Público"
   ]
  },
  {
   "cell_type": "code",
   "execution_count": 75,
   "metadata": {},
   "outputs": [],
   "source": [
    "bpnad.loc[:,'VD4008'] = bpnad['VD4008'].replace([1,2,4,5,6], 0)\n",
    "bpnad.loc[:,'VD4008'] = bpnad['VD4008'].replace(3, 1)"
   ]
  },
  {
   "cell_type": "markdown",
   "metadata": {},
   "source": [
    "#### Criando as colunas de Nível de Instrução Mais Elevado"
   ]
  },
  {
   "cell_type": "code",
   "execution_count": 76,
   "metadata": {
    "scrolled": true
   },
   "outputs": [],
   "source": [
    "bpnad.loc[:,'Superior_incompleto'] = (bpnad['VD3004']).copy()\n",
    "bpnad.loc[:,'Medio_completo'] = (bpnad['VD3004']).copy()\n",
    "bpnad.loc[:,'Medio_incompleto'] = (bpnad['VD3004']).copy()\n",
    "bpnad.loc[:,'Fund_completo'] = (bpnad['VD3004']).copy()\n",
    "bpnad.loc[:,'Fund_incompleto'] = (bpnad['VD3004']).copy()\n",
    "bpnad.loc[:,'Sem instrução'] = (bpnad['VD3004']).copy()"
   ]
  },
  {
   "cell_type": "markdown",
   "metadata": {},
   "source": [
    "#### Normalizando os valores das colunas de Nível de Instrução Mais Elevado"
   ]
  },
  {
   "cell_type": "code",
   "execution_count": 77,
   "metadata": {},
   "outputs": [],
   "source": [
    "bpnad.loc[:,'Superior_incompleto'] = bpnad['Superior_incompleto'].replace([1,2,3,4,5,7],0)\n",
    "bpnad.loc[:,'Superior_incompleto'] = bpnad['Superior_incompleto'].replace(6,1)"
   ]
  },
  {
   "cell_type": "code",
   "execution_count": 78,
   "metadata": {
    "scrolled": false
   },
   "outputs": [],
   "source": [
    "bpnad.loc[:,'Medio_completo'] = bpnad['Medio_completo'].replace([1,2,3,4,6,7],0)\n",
    "bpnad.loc[:,'Medio_completo'] = bpnad['Medio_completo'].replace(5,1)"
   ]
  },
  {
   "cell_type": "code",
   "execution_count": 79,
   "metadata": {},
   "outputs": [],
   "source": [
    "bpnad.loc[:,'Medio_incompleto'] = bpnad['Medio_incompleto'].replace([1,2,3,5,6,7],0)\n",
    "bpnad.loc[:,'Medio_incompleto'] = bpnad['Medio_incompleto'].replace(4,1)"
   ]
  },
  {
   "cell_type": "code",
   "execution_count": 80,
   "metadata": {},
   "outputs": [],
   "source": [
    "bpnad.loc[:,'Fund_completo'] = bpnad['Fund_completo'].replace([1,2,4,5,6,7],0)\n",
    "bpnad.loc[:,'Fund_completo'] = bpnad['Fund_completo'].replace(3,1)"
   ]
  },
  {
   "cell_type": "code",
   "execution_count": 81,
   "metadata": {
    "scrolled": true
   },
   "outputs": [],
   "source": [
    "bpnad.loc[:,'Fund_incompleto'] = bpnad['Fund_incompleto'].replace([1,3,4,5,6,7],0)\n",
    "bpnad.loc[:,'Fund_incompleto'] = bpnad['Fund_incompleto'].replace(2,1)"
   ]
  },
  {
   "cell_type": "code",
   "execution_count": 82,
   "metadata": {},
   "outputs": [],
   "source": [
    "bpnad.loc[:,'Sem instrução'] = bpnad['Sem instrução'].replace([2,3,4,5,6,7],0)"
   ]
  },
  {
   "cell_type": "markdown",
   "metadata": {},
   "source": [
    "#### Criando as variáveis iddom e data"
   ]
  },
  {
   "cell_type": "code",
   "execution_count": 83,
   "metadata": {},
   "outputs": [
    {
     "name": "stderr",
     "output_type": "stream",
     "text": [
      "C:\\Users\\higor\\anaconda3\\lib\\site-packages\\pandas\\core\\indexing.py:1596: SettingWithCopyWarning: \n",
      "A value is trying to be set on a copy of a slice from a DataFrame.\n",
      "Try using .loc[row_indexer,col_indexer] = value instead\n",
      "\n",
      "See the caveats in the documentation: https://pandas.pydata.org/pandas-docs/stable/user_guide/indexing.html#returning-a-view-versus-a-copy\n",
      "  self.obj[key] = _infer_fill_value(value)\n",
      "C:\\Users\\higor\\anaconda3\\lib\\site-packages\\pandas\\core\\indexing.py:1745: SettingWithCopyWarning: \n",
      "A value is trying to be set on a copy of a slice from a DataFrame.\n",
      "Try using .loc[row_indexer,col_indexer] = value instead\n",
      "\n",
      "See the caveats in the documentation: https://pandas.pydata.org/pandas-docs/stable/user_guide/indexing.html#returning-a-view-versus-a-copy\n",
      "  isetter(ilocs[0], value)\n",
      "C:\\Users\\higor\\anaconda3\\lib\\site-packages\\pandas\\core\\indexing.py:1745: SettingWithCopyWarning: \n",
      "A value is trying to be set on a copy of a slice from a DataFrame.\n",
      "Try using .loc[row_indexer,col_indexer] = value instead\n",
      "\n",
      "See the caveats in the documentation: https://pandas.pydata.org/pandas-docs/stable/user_guide/indexing.html#returning-a-view-versus-a-copy\n",
      "  isetter(ilocs[0], value)\n",
      "<ipython-input-83-906833c29dd0>:4: SettingWithCopyWarning: \n",
      "A value is trying to be set on a copy of a slice from a DataFrame.\n",
      "Try using .loc[row_indexer,col_indexer] = value instead\n",
      "\n",
      "See the caveats in the documentation: https://pandas.pydata.org/pandas-docs/stable/user_guide/indexing.html#returning-a-view-versus-a-copy\n",
      "  bpnad['data'] = (bpnad['Ano'].astype(str)) + '-' + (bpnad['Trimestre'].astype(str)) + '-' + '1'\n",
      "<ipython-input-83-906833c29dd0>:5: SettingWithCopyWarning: \n",
      "A value is trying to be set on a copy of a slice from a DataFrame.\n",
      "Try using .loc[row_indexer,col_indexer] = value instead\n",
      "\n",
      "See the caveats in the documentation: https://pandas.pydata.org/pandas-docs/stable/user_guide/indexing.html#returning-a-view-versus-a-copy\n",
      "  bpnad['data'] = pd.to_datetime(bpnad['data'])\n"
     ]
    }
   ],
   "source": [
    "bpnad.loc[bpnad['V1008'] < 10,'iddom'] = (bpnad['painel'].astype(str)) + (bpnad['UF'].astype(str)) + (bpnad['UPA'].astype(str)) + '0' + (bpnad['V1008'].astype(str))\n",
    "bpnad.loc[bpnad['V1008'] >= 10,'iddom'] = (bpnad['painel'].astype(str)) + (bpnad['UF'].astype(str)) + (bpnad['UPA'].astype(str)) + (bpnad['V1008'].astype(str))\n",
    "\n",
    "bpnad['data'] = (bpnad['Ano'].astype(str)) + '-' + (bpnad['Trimestre'].astype(str)) + '-' + '1'\n",
    "bpnad['data'] = pd.to_datetime(bpnad['data'])"
   ]
  },
  {
   "cell_type": "markdown",
   "metadata": {},
   "source": [
    "#### Criando a variável filhos"
   ]
  },
  {
   "cell_type": "code",
   "execution_count": 84,
   "metadata": {},
   "outputs": [
    {
     "name": "stderr",
     "output_type": "stream",
     "text": [
      "<ipython-input-84-43435c5c18fb>:1: SettingWithCopyWarning: \n",
      "A value is trying to be set on a copy of a slice from a DataFrame.\n",
      "Try using .loc[row_indexer,col_indexer] = value instead\n",
      "\n",
      "See the caveats in the documentation: https://pandas.pydata.org/pandas-docs/stable/user_guide/indexing.html#returning-a-view-versus-a-copy\n",
      "  bpnad['filho'] = 0\n",
      "C:\\Users\\higor\\anaconda3\\lib\\site-packages\\pandas\\core\\indexing.py:1765: SettingWithCopyWarning: \n",
      "A value is trying to be set on a copy of a slice from a DataFrame.\n",
      "Try using .loc[row_indexer,col_indexer] = value instead\n",
      "\n",
      "See the caveats in the documentation: https://pandas.pydata.org/pandas-docs/stable/user_guide/indexing.html#returning-a-view-versus-a-copy\n",
      "  isetter(loc, value)\n",
      "C:\\Users\\higor\\anaconda3\\lib\\site-packages\\pandas\\core\\indexing.py:1765: SettingWithCopyWarning: \n",
      "A value is trying to be set on a copy of a slice from a DataFrame.\n",
      "Try using .loc[row_indexer,col_indexer] = value instead\n",
      "\n",
      "See the caveats in the documentation: https://pandas.pydata.org/pandas-docs/stable/user_guide/indexing.html#returning-a-view-versus-a-copy\n",
      "  isetter(loc, value)\n",
      "<ipython-input-84-43435c5c18fb>:6: SettingWithCopyWarning: \n",
      "A value is trying to be set on a copy of a slice from a DataFrame.\n",
      "Try using .loc[row_indexer,col_indexer] = value instead\n",
      "\n",
      "See the caveats in the documentation: https://pandas.pydata.org/pandas-docs/stable/user_guide/indexing.html#returning-a-view-versus-a-copy\n",
      "  bpnad['num_filhos'] = bpnad.groupby(['iddom', 'data'])['filho'].transform('sum')\n",
      "C:\\Users\\higor\\anaconda3\\lib\\site-packages\\pandas\\core\\indexing.py:1765: SettingWithCopyWarning: \n",
      "A value is trying to be set on a copy of a slice from a DataFrame.\n",
      "Try using .loc[row_indexer,col_indexer] = value instead\n",
      "\n",
      "See the caveats in the documentation: https://pandas.pydata.org/pandas-docs/stable/user_guide/indexing.html#returning-a-view-versus-a-copy\n",
      "  isetter(loc, value)\n"
     ]
    }
   ],
   "source": [
    "bpnad['filho'] = 0\n",
    "\n",
    "bpnad.loc[bpnad['VD2002'] == 3, 'filho'] = 1\n",
    "bpnad.loc[bpnad['VD2002'] == 4, 'filho'] = 1\n",
    "\n",
    "bpnad['num_filhos'] = bpnad.groupby(['iddom', 'data'])['filho'].transform('sum')\n",
    "\n",
    "bpnad.loc[bq4['VD2002'] > 2, 'num_filhos'] = 0"
   ]
  },
  {
   "cell_type": "code",
   "execution_count": 85,
   "metadata": {},
   "outputs": [
    {
     "data": {
      "text/html": [
       "<div>\n",
       "<style scoped>\n",
       "    .dataframe tbody tr th:only-of-type {\n",
       "        vertical-align: middle;\n",
       "    }\n",
       "\n",
       "    .dataframe tbody tr th {\n",
       "        vertical-align: top;\n",
       "    }\n",
       "\n",
       "    .dataframe thead th {\n",
       "        text-align: right;\n",
       "    }\n",
       "</style>\n",
       "<table border=\"1\" class=\"dataframe\">\n",
       "  <thead>\n",
       "    <tr style=\"text-align: right;\">\n",
       "      <th></th>\n",
       "      <th>Unnamed: 0</th>\n",
       "      <th>Ano</th>\n",
       "      <th>Trimestre</th>\n",
       "      <th>UF</th>\n",
       "      <th>Capital</th>\n",
       "      <th>RM_RIDE</th>\n",
       "      <th>UPA</th>\n",
       "      <th>Estrato</th>\n",
       "      <th>V1008</th>\n",
       "      <th>V1014</th>\n",
       "      <th>...</th>\n",
       "      <th>Superior_incompleto</th>\n",
       "      <th>Medio_completo</th>\n",
       "      <th>Medio_incompleto</th>\n",
       "      <th>Fund_completo</th>\n",
       "      <th>Fund_incompleto</th>\n",
       "      <th>Sem instrução</th>\n",
       "      <th>iddom</th>\n",
       "      <th>data</th>\n",
       "      <th>filho</th>\n",
       "      <th>num_filhos</th>\n",
       "    </tr>\n",
       "  </thead>\n",
       "  <tbody>\n",
       "    <tr>\n",
       "      <th>0</th>\n",
       "      <td>0</td>\n",
       "      <td>2013</td>\n",
       "      <td>4</td>\n",
       "      <td>50</td>\n",
       "      <td>NaN</td>\n",
       "      <td>NaN</td>\n",
       "      <td>500000045</td>\n",
       "      <td>5052012</td>\n",
       "      <td>1</td>\n",
       "      <td>2</td>\n",
       "      <td>...</td>\n",
       "      <td>0.0</td>\n",
       "      <td>0.0</td>\n",
       "      <td>0.0</td>\n",
       "      <td>0.0</td>\n",
       "      <td>1.0</td>\n",
       "      <td>0.0</td>\n",
       "      <td>2.05050000004501</td>\n",
       "      <td>2013-04-01</td>\n",
       "      <td>0</td>\n",
       "      <td>0</td>\n",
       "    </tr>\n",
       "    <tr>\n",
       "      <th>1</th>\n",
       "      <td>1</td>\n",
       "      <td>2013</td>\n",
       "      <td>1</td>\n",
       "      <td>50</td>\n",
       "      <td>NaN</td>\n",
       "      <td>NaN</td>\n",
       "      <td>500000045</td>\n",
       "      <td>5052012</td>\n",
       "      <td>1</td>\n",
       "      <td>2</td>\n",
       "      <td>...</td>\n",
       "      <td>0.0</td>\n",
       "      <td>0.0</td>\n",
       "      <td>0.0</td>\n",
       "      <td>0.0</td>\n",
       "      <td>1.0</td>\n",
       "      <td>0.0</td>\n",
       "      <td>2.05050000004501</td>\n",
       "      <td>2013-01-01</td>\n",
       "      <td>0</td>\n",
       "      <td>0</td>\n",
       "    </tr>\n",
       "    <tr>\n",
       "      <th>2</th>\n",
       "      <td>2</td>\n",
       "      <td>2013</td>\n",
       "      <td>2</td>\n",
       "      <td>50</td>\n",
       "      <td>NaN</td>\n",
       "      <td>NaN</td>\n",
       "      <td>500000045</td>\n",
       "      <td>5052012</td>\n",
       "      <td>1</td>\n",
       "      <td>2</td>\n",
       "      <td>...</td>\n",
       "      <td>0.0</td>\n",
       "      <td>0.0</td>\n",
       "      <td>0.0</td>\n",
       "      <td>0.0</td>\n",
       "      <td>1.0</td>\n",
       "      <td>0.0</td>\n",
       "      <td>2.05050000004501</td>\n",
       "      <td>2013-02-01</td>\n",
       "      <td>0</td>\n",
       "      <td>0</td>\n",
       "    </tr>\n",
       "    <tr>\n",
       "      <th>3</th>\n",
       "      <td>3</td>\n",
       "      <td>2013</td>\n",
       "      <td>3</td>\n",
       "      <td>50</td>\n",
       "      <td>NaN</td>\n",
       "      <td>NaN</td>\n",
       "      <td>500000045</td>\n",
       "      <td>5052012</td>\n",
       "      <td>1</td>\n",
       "      <td>2</td>\n",
       "      <td>...</td>\n",
       "      <td>0.0</td>\n",
       "      <td>0.0</td>\n",
       "      <td>0.0</td>\n",
       "      <td>0.0</td>\n",
       "      <td>1.0</td>\n",
       "      <td>0.0</td>\n",
       "      <td>2.05050000004501</td>\n",
       "      <td>2013-03-01</td>\n",
       "      <td>0</td>\n",
       "      <td>0</td>\n",
       "    </tr>\n",
       "    <tr>\n",
       "      <th>4</th>\n",
       "      <td>4</td>\n",
       "      <td>2014</td>\n",
       "      <td>1</td>\n",
       "      <td>50</td>\n",
       "      <td>NaN</td>\n",
       "      <td>NaN</td>\n",
       "      <td>500000045</td>\n",
       "      <td>5052012</td>\n",
       "      <td>1</td>\n",
       "      <td>2</td>\n",
       "      <td>...</td>\n",
       "      <td>0.0</td>\n",
       "      <td>0.0</td>\n",
       "      <td>0.0</td>\n",
       "      <td>0.0</td>\n",
       "      <td>1.0</td>\n",
       "      <td>0.0</td>\n",
       "      <td>2.05050000004501</td>\n",
       "      <td>2014-01-01</td>\n",
       "      <td>0</td>\n",
       "      <td>0</td>\n",
       "    </tr>\n",
       "  </tbody>\n",
       "</table>\n",
       "<p>5 rows × 235 columns</p>\n",
       "</div>"
      ],
      "text/plain": [
       "   Unnamed: 0   Ano  Trimestre  UF  Capital  RM_RIDE        UPA  Estrato  \\\n",
       "0           0  2013          4  50      NaN      NaN  500000045  5052012   \n",
       "1           1  2013          1  50      NaN      NaN  500000045  5052012   \n",
       "2           2  2013          2  50      NaN      NaN  500000045  5052012   \n",
       "3           3  2013          3  50      NaN      NaN  500000045  5052012   \n",
       "4           4  2014          1  50      NaN      NaN  500000045  5052012   \n",
       "\n",
       "   V1008  V1014  ...  Superior_incompleto  Medio_completo  Medio_incompleto  \\\n",
       "0      1      2  ...                  0.0             0.0               0.0   \n",
       "1      1      2  ...                  0.0             0.0               0.0   \n",
       "2      1      2  ...                  0.0             0.0               0.0   \n",
       "3      1      2  ...                  0.0             0.0               0.0   \n",
       "4      1      2  ...                  0.0             0.0               0.0   \n",
       "\n",
       "   Fund_completo  Fund_incompleto  Sem instrução             iddom       data  \\\n",
       "0            0.0              1.0            0.0  2.05050000004501 2013-04-01   \n",
       "1            0.0              1.0            0.0  2.05050000004501 2013-01-01   \n",
       "2            0.0              1.0            0.0  2.05050000004501 2013-02-01   \n",
       "3            0.0              1.0            0.0  2.05050000004501 2013-03-01   \n",
       "4            0.0              1.0            0.0  2.05050000004501 2014-01-01   \n",
       "\n",
       "   filho  num_filhos  \n",
       "0      0           0  \n",
       "1      0           0  \n",
       "2      0           0  \n",
       "3      0           0  \n",
       "4      0           0  \n",
       "\n",
       "[5 rows x 235 columns]"
      ]
     },
     "execution_count": 85,
     "metadata": {},
     "output_type": "execute_result"
    }
   ],
   "source": [
    "bpnad.head()"
   ]
  },
  {
   "cell_type": "markdown",
   "metadata": {},
   "source": [
    "### Limpando a base de dados"
   ]
  },
  {
   "cell_type": "code",
   "execution_count": 86,
   "metadata": {
    "scrolled": true
   },
   "outputs": [
    {
     "data": {
      "text/plain": [
       "array(['Unnamed: 0', 'Ano', 'Trimestre', 'UF', 'Capital', 'RM_RIDE',\n",
       "       'UPA', 'Estrato', 'V1008', 'V1014', 'V1016', 'V1022', 'V1023',\n",
       "       'V1027', 'V1028', 'V1029', 'posest', 'V2001', 'V2003', 'V2005',\n",
       "       'V2007', 'V2008', 'V20081', 'V20082', 'V2009', 'V2010', 'V3001',\n",
       "       'V3002', 'V3002A', 'V3003', 'V3003A', 'V3004', 'V3005', 'V3005A',\n",
       "       'V3006', 'V3006A', 'V3007', 'V3008', 'V3009', 'V3009A', 'V3010',\n",
       "       'V3011', 'V3011A', 'V3012', 'V3013', 'V3013A', 'V3013B', 'V3014',\n",
       "       'V4001', 'V4002', 'V4003', 'V4004', 'V4005', 'V4006', 'V4006A',\n",
       "       'V4007', 'V4008', 'V40081', 'V40082', 'V40083', 'V4009', 'V4010',\n",
       "       'V4012', 'V40121', 'V4013', 'V40132', 'V40132A', 'V4014', 'V4015',\n",
       "       'V40151', 'V401511', 'V401512', 'V4016', 'V40161', 'V40162',\n",
       "       'V40163', 'V4017', 'V40171', 'V401711', 'V4018', 'V40181',\n",
       "       'V40182', 'V40183', 'V4019', 'V4020', 'V4021', 'V4022', 'V4024',\n",
       "       'V4025', 'V4026', 'V4027', 'V4028', 'V4029', 'V4032', 'V4033',\n",
       "       'V40331', 'V403311', 'V403312', 'V40332', 'V403321', 'V403322',\n",
       "       'V40333', 'V403331', 'V4034', 'V40341', 'V403411', 'V403412',\n",
       "       'V40342', 'V403421', 'V403422', 'V4039', 'V4039C', 'V4040',\n",
       "       'V40401', 'V40402', 'V40403', 'V4041', 'V4043', 'V40431', 'V4044',\n",
       "       'V4045', 'V4046', 'V4047', 'V4048', 'V4049', 'V4050', 'V40501',\n",
       "       'V405011', 'V405012', 'V40502', 'V405021', 'V405022', 'V40503',\n",
       "       'V405031', 'V4051', 'V40511', 'V405111', 'V405112', 'V40512',\n",
       "       'V405121', 'V405122', 'V4056', 'V4056C', 'V4057', 'V4058',\n",
       "       'V40581', 'V405811', 'V405812', 'V40582', 'V405821', 'V405822',\n",
       "       'V40583', 'V405831', 'V40584', 'V4059', 'V40591', 'V405911',\n",
       "       'V405912', 'V40592', 'V405921', 'V405922', 'V4062', 'V4062C',\n",
       "       'V4063', 'V4063A', 'V4064', 'V4064A', 'V4071', 'V4072', 'V4072A',\n",
       "       'V4073', 'V4074', 'V4074A', 'V4075A', 'V4075A1', 'V4076', 'V40761',\n",
       "       'V40762', 'V40763', 'V4077', 'V4078', 'V4078A', 'V4082', 'VD2002',\n",
       "       'VD2003', 'VD2004', 'VD3004', 'VD3005', 'VD3006', 'VD4001',\n",
       "       'VD4002', 'VD4003', 'VD4004', 'VD4004A', 'VD4005', 'VD4007',\n",
       "       'VD4008', 'VD4009', 'VD4010', 'VD4011', 'VD4012', 'VD4013',\n",
       "       'VD4014', 'VD4015', 'VD4016', 'VD4017', 'VD4018', 'VD4019',\n",
       "       'VD4020', 'VD4023', 'VD4030', 'VD4031', 'VD4032', 'VD4033',\n",
       "       'VD4034', 'VD4035', 'VD4036', 'VD4037', 'painel', 'idind',\n",
       "       'Salario/hora', 'log(Salario/hora)', 'Idade_2', 'preta', 'parda',\n",
       "       'Superior_incompleto', 'Medio_completo', 'Medio_incompleto',\n",
       "       'Fund_completo', 'Fund_incompleto', 'Sem instrução', 'iddom',\n",
       "       'data', 'filho', 'num_filhos'], dtype=object)"
      ]
     },
     "execution_count": 86,
     "metadata": {},
     "output_type": "execute_result"
    }
   ],
   "source": [
    "bpnad.columns.values"
   ]
  },
  {
   "cell_type": "markdown",
   "metadata": {},
   "source": [
    "#### Excluindo colunas agora desnecessárias"
   ]
  },
  {
   "cell_type": "code",
   "execution_count": 87,
   "metadata": {},
   "outputs": [],
   "source": [
    "bpnad = bpnad[['V1023', 'V2001', 'V2007', 'V2009', 'V3002',\n",
    "       'V4009', 'VD3005', 'VD4008', 'VD4019', 'VD4031', 'idind',\n",
    "       'Salario/hora', 'log(Salario/hora)', 'Idade_2', 'preta', 'parda',\n",
    "       'Superior_incompleto', 'Medio_completo', 'Medio_incompleto',\n",
    "       'Fund_completo', 'Fund_incompleto', 'Sem instrução', 'iddom',\n",
    "        'data', 'num_filhos']]"
   ]
  },
  {
   "cell_type": "markdown",
   "metadata": {},
   "source": [
    "##### Alterando o nome das colunas"
   ]
  },
  {
   "cell_type": "code",
   "execution_count": 88,
   "metadata": {},
   "outputs": [],
   "source": [
    "bpnad.columns = ['capital','pessoasdom','mulher','idade','freqescola','maisumtrab','educ','servidor','salariom','horassem',\n",
    "                'id', 'salarioh', 'lsalarioh', 'idadeqdd', 'preta', 'parda','superiorinc','mediocom', 'medioinc','fundcom',\n",
    "                 'fundinc', 'semestudo', 'iddom', 'data', 'filhos']"
   ]
  },
  {
   "cell_type": "code",
   "execution_count": 89,
   "metadata": {
    "scrolled": true
   },
   "outputs": [
    {
     "data": {
      "text/html": [
       "<div>\n",
       "<style scoped>\n",
       "    .dataframe tbody tr th:only-of-type {\n",
       "        vertical-align: middle;\n",
       "    }\n",
       "\n",
       "    .dataframe tbody tr th {\n",
       "        vertical-align: top;\n",
       "    }\n",
       "\n",
       "    .dataframe thead th {\n",
       "        text-align: right;\n",
       "    }\n",
       "</style>\n",
       "<table border=\"1\" class=\"dataframe\">\n",
       "  <thead>\n",
       "    <tr style=\"text-align: right;\">\n",
       "      <th></th>\n",
       "      <th>capital</th>\n",
       "      <th>pessoasdom</th>\n",
       "      <th>mulher</th>\n",
       "      <th>idade</th>\n",
       "      <th>freqescola</th>\n",
       "      <th>maisumtrab</th>\n",
       "      <th>educ</th>\n",
       "      <th>servidor</th>\n",
       "      <th>salariom</th>\n",
       "      <th>horassem</th>\n",
       "      <th>...</th>\n",
       "      <th>parda</th>\n",
       "      <th>superiorinc</th>\n",
       "      <th>mediocom</th>\n",
       "      <th>medioinc</th>\n",
       "      <th>fundcom</th>\n",
       "      <th>fundinc</th>\n",
       "      <th>semestudo</th>\n",
       "      <th>iddom</th>\n",
       "      <th>data</th>\n",
       "      <th>filhos</th>\n",
       "    </tr>\n",
       "  </thead>\n",
       "  <tbody>\n",
       "    <tr>\n",
       "      <th>0</th>\n",
       "      <td>0</td>\n",
       "      <td>3</td>\n",
       "      <td>0</td>\n",
       "      <td>41</td>\n",
       "      <td>0.0</td>\n",
       "      <td>0.0</td>\n",
       "      <td>5.0</td>\n",
       "      <td>0.0</td>\n",
       "      <td>1200.0</td>\n",
       "      <td>48.0</td>\n",
       "      <td>...</td>\n",
       "      <td>0</td>\n",
       "      <td>0.0</td>\n",
       "      <td>0.0</td>\n",
       "      <td>0.0</td>\n",
       "      <td>0.0</td>\n",
       "      <td>1.0</td>\n",
       "      <td>0.0</td>\n",
       "      <td>2.05050000004501</td>\n",
       "      <td>2013-04-01</td>\n",
       "      <td>0</td>\n",
       "    </tr>\n",
       "    <tr>\n",
       "      <th>1</th>\n",
       "      <td>0</td>\n",
       "      <td>3</td>\n",
       "      <td>0</td>\n",
       "      <td>41</td>\n",
       "      <td>0.0</td>\n",
       "      <td>0.0</td>\n",
       "      <td>5.0</td>\n",
       "      <td>0.0</td>\n",
       "      <td>1000.0</td>\n",
       "      <td>32.0</td>\n",
       "      <td>...</td>\n",
       "      <td>1</td>\n",
       "      <td>0.0</td>\n",
       "      <td>0.0</td>\n",
       "      <td>0.0</td>\n",
       "      <td>0.0</td>\n",
       "      <td>1.0</td>\n",
       "      <td>0.0</td>\n",
       "      <td>2.05050000004501</td>\n",
       "      <td>2013-01-01</td>\n",
       "      <td>0</td>\n",
       "    </tr>\n",
       "    <tr>\n",
       "      <th>2</th>\n",
       "      <td>0</td>\n",
       "      <td>3</td>\n",
       "      <td>0</td>\n",
       "      <td>41</td>\n",
       "      <td>0.0</td>\n",
       "      <td>0.0</td>\n",
       "      <td>5.0</td>\n",
       "      <td>0.0</td>\n",
       "      <td>1000.0</td>\n",
       "      <td>48.0</td>\n",
       "      <td>...</td>\n",
       "      <td>1</td>\n",
       "      <td>0.0</td>\n",
       "      <td>0.0</td>\n",
       "      <td>0.0</td>\n",
       "      <td>0.0</td>\n",
       "      <td>1.0</td>\n",
       "      <td>0.0</td>\n",
       "      <td>2.05050000004501</td>\n",
       "      <td>2013-02-01</td>\n",
       "      <td>0</td>\n",
       "    </tr>\n",
       "    <tr>\n",
       "      <th>3</th>\n",
       "      <td>0</td>\n",
       "      <td>3</td>\n",
       "      <td>0</td>\n",
       "      <td>41</td>\n",
       "      <td>0.0</td>\n",
       "      <td>0.0</td>\n",
       "      <td>4.0</td>\n",
       "      <td>0.0</td>\n",
       "      <td>1500.0</td>\n",
       "      <td>48.0</td>\n",
       "      <td>...</td>\n",
       "      <td>0</td>\n",
       "      <td>0.0</td>\n",
       "      <td>0.0</td>\n",
       "      <td>0.0</td>\n",
       "      <td>0.0</td>\n",
       "      <td>1.0</td>\n",
       "      <td>0.0</td>\n",
       "      <td>2.05050000004501</td>\n",
       "      <td>2013-03-01</td>\n",
       "      <td>0</td>\n",
       "    </tr>\n",
       "    <tr>\n",
       "      <th>4</th>\n",
       "      <td>0</td>\n",
       "      <td>3</td>\n",
       "      <td>0</td>\n",
       "      <td>42</td>\n",
       "      <td>0.0</td>\n",
       "      <td>0.0</td>\n",
       "      <td>5.0</td>\n",
       "      <td>0.0</td>\n",
       "      <td>1200.0</td>\n",
       "      <td>44.0</td>\n",
       "      <td>...</td>\n",
       "      <td>1</td>\n",
       "      <td>0.0</td>\n",
       "      <td>0.0</td>\n",
       "      <td>0.0</td>\n",
       "      <td>0.0</td>\n",
       "      <td>1.0</td>\n",
       "      <td>0.0</td>\n",
       "      <td>2.05050000004501</td>\n",
       "      <td>2014-01-01</td>\n",
       "      <td>0</td>\n",
       "    </tr>\n",
       "    <tr>\n",
       "      <th>...</th>\n",
       "      <td>...</td>\n",
       "      <td>...</td>\n",
       "      <td>...</td>\n",
       "      <td>...</td>\n",
       "      <td>...</td>\n",
       "      <td>...</td>\n",
       "      <td>...</td>\n",
       "      <td>...</td>\n",
       "      <td>...</td>\n",
       "      <td>...</td>\n",
       "      <td>...</td>\n",
       "      <td>...</td>\n",
       "      <td>...</td>\n",
       "      <td>...</td>\n",
       "      <td>...</td>\n",
       "      <td>...</td>\n",
       "      <td>...</td>\n",
       "      <td>...</td>\n",
       "      <td>...</td>\n",
       "      <td>...</td>\n",
       "      <td>...</td>\n",
       "    </tr>\n",
       "    <tr>\n",
       "      <th>271534</th>\n",
       "      <td>1</td>\n",
       "      <td>4</td>\n",
       "      <td>1</td>\n",
       "      <td>39</td>\n",
       "      <td>0.0</td>\n",
       "      <td>0.0</td>\n",
       "      <td>9.0</td>\n",
       "      <td>0.0</td>\n",
       "      <td>1500.0</td>\n",
       "      <td>30.0</td>\n",
       "      <td>...</td>\n",
       "      <td>0</td>\n",
       "      <td>0.0</td>\n",
       "      <td>0.0</td>\n",
       "      <td>0.0</td>\n",
       "      <td>1.0</td>\n",
       "      <td>0.0</td>\n",
       "      <td>0.0</td>\n",
       "      <td>2.05353004437714</td>\n",
       "      <td>2012-02-01</td>\n",
       "      <td>0</td>\n",
       "    </tr>\n",
       "    <tr>\n",
       "      <th>271537</th>\n",
       "      <td>1</td>\n",
       "      <td>2</td>\n",
       "      <td>0</td>\n",
       "      <td>30</td>\n",
       "      <td>0.0</td>\n",
       "      <td>0.0</td>\n",
       "      <td>16.0</td>\n",
       "      <td>1.0</td>\n",
       "      <td>2300.0</td>\n",
       "      <td>40.0</td>\n",
       "      <td>...</td>\n",
       "      <td>1</td>\n",
       "      <td>0.0</td>\n",
       "      <td>0.0</td>\n",
       "      <td>0.0</td>\n",
       "      <td>0.0</td>\n",
       "      <td>0.0</td>\n",
       "      <td>0.0</td>\n",
       "      <td>2.05353004437714</td>\n",
       "      <td>2013-01-01</td>\n",
       "      <td>0</td>\n",
       "    </tr>\n",
       "    <tr>\n",
       "      <th>271538</th>\n",
       "      <td>1</td>\n",
       "      <td>2</td>\n",
       "      <td>0</td>\n",
       "      <td>30</td>\n",
       "      <td>0.0</td>\n",
       "      <td>0.0</td>\n",
       "      <td>16.0</td>\n",
       "      <td>1.0</td>\n",
       "      <td>2100.0</td>\n",
       "      <td>40.0</td>\n",
       "      <td>...</td>\n",
       "      <td>1</td>\n",
       "      <td>0.0</td>\n",
       "      <td>0.0</td>\n",
       "      <td>0.0</td>\n",
       "      <td>0.0</td>\n",
       "      <td>0.0</td>\n",
       "      <td>0.0</td>\n",
       "      <td>2.05353004437714</td>\n",
       "      <td>2012-04-01</td>\n",
       "      <td>0</td>\n",
       "    </tr>\n",
       "    <tr>\n",
       "      <th>271539</th>\n",
       "      <td>1</td>\n",
       "      <td>2</td>\n",
       "      <td>1</td>\n",
       "      <td>23</td>\n",
       "      <td>1.0</td>\n",
       "      <td>0.0</td>\n",
       "      <td>14.0</td>\n",
       "      <td>0.0</td>\n",
       "      <td>1200.0</td>\n",
       "      <td>40.0</td>\n",
       "      <td>...</td>\n",
       "      <td>0</td>\n",
       "      <td>1.0</td>\n",
       "      <td>0.0</td>\n",
       "      <td>0.0</td>\n",
       "      <td>0.0</td>\n",
       "      <td>0.0</td>\n",
       "      <td>0.0</td>\n",
       "      <td>2.05353004437714</td>\n",
       "      <td>2013-01-01</td>\n",
       "      <td>0</td>\n",
       "    </tr>\n",
       "    <tr>\n",
       "      <th>271540</th>\n",
       "      <td>1</td>\n",
       "      <td>2</td>\n",
       "      <td>1</td>\n",
       "      <td>23</td>\n",
       "      <td>1.0</td>\n",
       "      <td>0.0</td>\n",
       "      <td>14.0</td>\n",
       "      <td>0.0</td>\n",
       "      <td>722.0</td>\n",
       "      <td>46.0</td>\n",
       "      <td>...</td>\n",
       "      <td>0</td>\n",
       "      <td>1.0</td>\n",
       "      <td>0.0</td>\n",
       "      <td>0.0</td>\n",
       "      <td>0.0</td>\n",
       "      <td>0.0</td>\n",
       "      <td>0.0</td>\n",
       "      <td>2.05353004437714</td>\n",
       "      <td>2012-04-01</td>\n",
       "      <td>0</td>\n",
       "    </tr>\n",
       "  </tbody>\n",
       "</table>\n",
       "<p>123939 rows × 25 columns</p>\n",
       "</div>"
      ],
      "text/plain": [
       "        capital  pessoasdom  mulher  idade  freqescola  maisumtrab  educ  \\\n",
       "0             0           3       0     41         0.0         0.0   5.0   \n",
       "1             0           3       0     41         0.0         0.0   5.0   \n",
       "2             0           3       0     41         0.0         0.0   5.0   \n",
       "3             0           3       0     41         0.0         0.0   4.0   \n",
       "4             0           3       0     42         0.0         0.0   5.0   \n",
       "...         ...         ...     ...    ...         ...         ...   ...   \n",
       "271534        1           4       1     39         0.0         0.0   9.0   \n",
       "271537        1           2       0     30         0.0         0.0  16.0   \n",
       "271538        1           2       0     30         0.0         0.0  16.0   \n",
       "271539        1           2       1     23         1.0         0.0  14.0   \n",
       "271540        1           2       1     23         1.0         0.0  14.0   \n",
       "\n",
       "        servidor  salariom  horassem  ...  parda  superiorinc  mediocom  \\\n",
       "0            0.0    1200.0      48.0  ...      0          0.0       0.0   \n",
       "1            0.0    1000.0      32.0  ...      1          0.0       0.0   \n",
       "2            0.0    1000.0      48.0  ...      1          0.0       0.0   \n",
       "3            0.0    1500.0      48.0  ...      0          0.0       0.0   \n",
       "4            0.0    1200.0      44.0  ...      1          0.0       0.0   \n",
       "...          ...       ...       ...  ...    ...          ...       ...   \n",
       "271534       0.0    1500.0      30.0  ...      0          0.0       0.0   \n",
       "271537       1.0    2300.0      40.0  ...      1          0.0       0.0   \n",
       "271538       1.0    2100.0      40.0  ...      1          0.0       0.0   \n",
       "271539       0.0    1200.0      40.0  ...      0          1.0       0.0   \n",
       "271540       0.0     722.0      46.0  ...      0          1.0       0.0   \n",
       "\n",
       "        medioinc  fundcom  fundinc  semestudo             iddom       data  \\\n",
       "0            0.0      0.0      1.0        0.0  2.05050000004501 2013-04-01   \n",
       "1            0.0      0.0      1.0        0.0  2.05050000004501 2013-01-01   \n",
       "2            0.0      0.0      1.0        0.0  2.05050000004501 2013-02-01   \n",
       "3            0.0      0.0      1.0        0.0  2.05050000004501 2013-03-01   \n",
       "4            0.0      0.0      1.0        0.0  2.05050000004501 2014-01-01   \n",
       "...          ...      ...      ...        ...               ...        ...   \n",
       "271534       0.0      1.0      0.0        0.0  2.05353004437714 2012-02-01   \n",
       "271537       0.0      0.0      0.0        0.0  2.05353004437714 2013-01-01   \n",
       "271538       0.0      0.0      0.0        0.0  2.05353004437714 2012-04-01   \n",
       "271539       0.0      0.0      0.0        0.0  2.05353004437714 2013-01-01   \n",
       "271540       0.0      0.0      0.0        0.0  2.05353004437714 2012-04-01   \n",
       "\n",
       "        filhos  \n",
       "0            0  \n",
       "1            0  \n",
       "2            0  \n",
       "3            0  \n",
       "4            0  \n",
       "...        ...  \n",
       "271534       0  \n",
       "271537       0  \n",
       "271538       0  \n",
       "271539       0  \n",
       "271540       0  \n",
       "\n",
       "[123939 rows x 25 columns]"
      ]
     },
     "execution_count": 89,
     "metadata": {},
     "output_type": "execute_result"
    }
   ],
   "source": [
    "bpnad"
   ]
  },
  {
   "cell_type": "markdown",
   "metadata": {},
   "source": [
    "##### Alterando a ordem das colunas"
   ]
  },
  {
   "cell_type": "code",
   "execution_count": 90,
   "metadata": {},
   "outputs": [],
   "source": [
    "bpnad = bpnad[['id','data','iddom','lsalarioh','salarioh','idade','idadeqdd','mulher','preta','parda','capital','pessoasdom',\n",
    "             'filhos','educ','freqescola','superiorinc','mediocom','medioinc','fundcom','fundinc','semestudo','servidor',\n",
    "             'maisumtrab']]"
   ]
  },
  {
   "cell_type": "code",
   "execution_count": 91,
   "metadata": {},
   "outputs": [
    {
     "data": {
      "text/html": [
       "<div>\n",
       "<style scoped>\n",
       "    .dataframe tbody tr th:only-of-type {\n",
       "        vertical-align: middle;\n",
       "    }\n",
       "\n",
       "    .dataframe tbody tr th {\n",
       "        vertical-align: top;\n",
       "    }\n",
       "\n",
       "    .dataframe thead th {\n",
       "        text-align: right;\n",
       "    }\n",
       "</style>\n",
       "<table border=\"1\" class=\"dataframe\">\n",
       "  <thead>\n",
       "    <tr style=\"text-align: right;\">\n",
       "      <th></th>\n",
       "      <th>id</th>\n",
       "      <th>data</th>\n",
       "      <th>iddom</th>\n",
       "      <th>lsalarioh</th>\n",
       "      <th>salarioh</th>\n",
       "      <th>idade</th>\n",
       "      <th>idadeqdd</th>\n",
       "      <th>mulher</th>\n",
       "      <th>preta</th>\n",
       "      <th>parda</th>\n",
       "      <th>...</th>\n",
       "      <th>educ</th>\n",
       "      <th>freqescola</th>\n",
       "      <th>superiorinc</th>\n",
       "      <th>mediocom</th>\n",
       "      <th>medioinc</th>\n",
       "      <th>fundcom</th>\n",
       "      <th>fundinc</th>\n",
       "      <th>semestudo</th>\n",
       "      <th>servidor</th>\n",
       "      <th>maisumtrab</th>\n",
       "    </tr>\n",
       "  </thead>\n",
       "  <tbody>\n",
       "    <tr>\n",
       "      <th>0</th>\n",
       "      <td>250500000045001001</td>\n",
       "      <td>2013-04-01</td>\n",
       "      <td>2.05050000004501</td>\n",
       "      <td>0.698970</td>\n",
       "      <td>5.000000</td>\n",
       "      <td>41</td>\n",
       "      <td>1681</td>\n",
       "      <td>0</td>\n",
       "      <td>0</td>\n",
       "      <td>0</td>\n",
       "      <td>...</td>\n",
       "      <td>5.0</td>\n",
       "      <td>0.0</td>\n",
       "      <td>0.0</td>\n",
       "      <td>0.0</td>\n",
       "      <td>0.0</td>\n",
       "      <td>0.0</td>\n",
       "      <td>1.0</td>\n",
       "      <td>0.0</td>\n",
       "      <td>0.0</td>\n",
       "      <td>0.0</td>\n",
       "    </tr>\n",
       "    <tr>\n",
       "      <th>1</th>\n",
       "      <td>250500000045001001</td>\n",
       "      <td>2013-01-01</td>\n",
       "      <td>2.05050000004501</td>\n",
       "      <td>0.795880</td>\n",
       "      <td>6.250000</td>\n",
       "      <td>41</td>\n",
       "      <td>1681</td>\n",
       "      <td>0</td>\n",
       "      <td>0</td>\n",
       "      <td>1</td>\n",
       "      <td>...</td>\n",
       "      <td>5.0</td>\n",
       "      <td>0.0</td>\n",
       "      <td>0.0</td>\n",
       "      <td>0.0</td>\n",
       "      <td>0.0</td>\n",
       "      <td>0.0</td>\n",
       "      <td>1.0</td>\n",
       "      <td>0.0</td>\n",
       "      <td>0.0</td>\n",
       "      <td>0.0</td>\n",
       "    </tr>\n",
       "    <tr>\n",
       "      <th>2</th>\n",
       "      <td>250500000045001001</td>\n",
       "      <td>2013-02-01</td>\n",
       "      <td>2.05050000004501</td>\n",
       "      <td>0.619789</td>\n",
       "      <td>4.166667</td>\n",
       "      <td>41</td>\n",
       "      <td>1681</td>\n",
       "      <td>0</td>\n",
       "      <td>0</td>\n",
       "      <td>1</td>\n",
       "      <td>...</td>\n",
       "      <td>5.0</td>\n",
       "      <td>0.0</td>\n",
       "      <td>0.0</td>\n",
       "      <td>0.0</td>\n",
       "      <td>0.0</td>\n",
       "      <td>0.0</td>\n",
       "      <td>1.0</td>\n",
       "      <td>0.0</td>\n",
       "      <td>0.0</td>\n",
       "      <td>0.0</td>\n",
       "    </tr>\n",
       "    <tr>\n",
       "      <th>3</th>\n",
       "      <td>250500000045001001</td>\n",
       "      <td>2013-03-01</td>\n",
       "      <td>2.05050000004501</td>\n",
       "      <td>0.795880</td>\n",
       "      <td>6.250000</td>\n",
       "      <td>41</td>\n",
       "      <td>1681</td>\n",
       "      <td>0</td>\n",
       "      <td>0</td>\n",
       "      <td>0</td>\n",
       "      <td>...</td>\n",
       "      <td>4.0</td>\n",
       "      <td>0.0</td>\n",
       "      <td>0.0</td>\n",
       "      <td>0.0</td>\n",
       "      <td>0.0</td>\n",
       "      <td>0.0</td>\n",
       "      <td>1.0</td>\n",
       "      <td>0.0</td>\n",
       "      <td>0.0</td>\n",
       "      <td>0.0</td>\n",
       "    </tr>\n",
       "    <tr>\n",
       "      <th>4</th>\n",
       "      <td>250500000045001001</td>\n",
       "      <td>2014-01-01</td>\n",
       "      <td>2.05050000004501</td>\n",
       "      <td>0.736759</td>\n",
       "      <td>5.454545</td>\n",
       "      <td>42</td>\n",
       "      <td>1764</td>\n",
       "      <td>0</td>\n",
       "      <td>0</td>\n",
       "      <td>1</td>\n",
       "      <td>...</td>\n",
       "      <td>5.0</td>\n",
       "      <td>0.0</td>\n",
       "      <td>0.0</td>\n",
       "      <td>0.0</td>\n",
       "      <td>0.0</td>\n",
       "      <td>0.0</td>\n",
       "      <td>1.0</td>\n",
       "      <td>0.0</td>\n",
       "      <td>0.0</td>\n",
       "      <td>0.0</td>\n",
       "    </tr>\n",
       "  </tbody>\n",
       "</table>\n",
       "<p>5 rows × 23 columns</p>\n",
       "</div>"
      ],
      "text/plain": [
       "                   id       data             iddom  lsalarioh  salarioh  \\\n",
       "0  250500000045001001 2013-04-01  2.05050000004501   0.698970  5.000000   \n",
       "1  250500000045001001 2013-01-01  2.05050000004501   0.795880  6.250000   \n",
       "2  250500000045001001 2013-02-01  2.05050000004501   0.619789  4.166667   \n",
       "3  250500000045001001 2013-03-01  2.05050000004501   0.795880  6.250000   \n",
       "4  250500000045001001 2014-01-01  2.05050000004501   0.736759  5.454545   \n",
       "\n",
       "   idade  idadeqdd  mulher  preta  parda  ...  educ  freqescola  superiorinc  \\\n",
       "0     41      1681       0      0      0  ...   5.0         0.0          0.0   \n",
       "1     41      1681       0      0      1  ...   5.0         0.0          0.0   \n",
       "2     41      1681       0      0      1  ...   5.0         0.0          0.0   \n",
       "3     41      1681       0      0      0  ...   4.0         0.0          0.0   \n",
       "4     42      1764       0      0      1  ...   5.0         0.0          0.0   \n",
       "\n",
       "   mediocom  medioinc  fundcom  fundinc  semestudo  servidor  maisumtrab  \n",
       "0       0.0       0.0      0.0      1.0        0.0       0.0         0.0  \n",
       "1       0.0       0.0      0.0      1.0        0.0       0.0         0.0  \n",
       "2       0.0       0.0      0.0      1.0        0.0       0.0         0.0  \n",
       "3       0.0       0.0      0.0      1.0        0.0       0.0         0.0  \n",
       "4       0.0       0.0      0.0      1.0        0.0       0.0         0.0  \n",
       "\n",
       "[5 rows x 23 columns]"
      ]
     },
     "execution_count": 91,
     "metadata": {},
     "output_type": "execute_result"
    }
   ],
   "source": [
    "bpnad.head()"
   ]
  },
  {
   "cell_type": "markdown",
   "metadata": {},
   "source": [
    "#### Mudar o tipo da coluna Id para string"
   ]
  },
  {
   "cell_type": "code",
   "execution_count": 93,
   "metadata": {},
   "outputs": [
    {
     "name": "stderr",
     "output_type": "stream",
     "text": [
      "C:\\Users\\higor\\anaconda3\\lib\\site-packages\\pandas\\core\\indexing.py:1745: SettingWithCopyWarning: \n",
      "A value is trying to be set on a copy of a slice from a DataFrame.\n",
      "Try using .loc[row_indexer,col_indexer] = value instead\n",
      "\n",
      "See the caveats in the documentation: https://pandas.pydata.org/pandas-docs/stable/user_guide/indexing.html#returning-a-view-versus-a-copy\n",
      "  isetter(ilocs[0], value)\n"
     ]
    }
   ],
   "source": [
    "bpnad.loc[:,'id'] = bpnad.loc[:,'id'].astype('str')"
   ]
  },
  {
   "cell_type": "code",
   "execution_count": 94,
   "metadata": {},
   "outputs": [],
   "source": [
    "bpnad.loc[:,'iddom'] = bpnad.loc[:,'iddom'].astype('str')"
   ]
  },
  {
   "cell_type": "markdown",
   "metadata": {},
   "source": [
    "##### Exportar a tabela"
   ]
  },
  {
   "cell_type": "code",
   "execution_count": 95,
   "metadata": {},
   "outputs": [
    {
     "name": "stderr",
     "output_type": "stream",
     "text": [
      "<ipython-input-95-1ec57c9dc5b1>:1: SettingWithCopyWarning: \n",
      "A value is trying to be set on a copy of a slice from a DataFrame\n",
      "\n",
      "See the caveats in the documentation: https://pandas.pydata.org/pandas-docs/stable/user_guide/indexing.html#returning-a-view-versus-a-copy\n",
      "  bpnad.sort_values(by=['id', 'data'], inplace=True)\n"
     ]
    }
   ],
   "source": [
    "bpnad.sort_values(by=['id', 'data'], inplace=True)"
   ]
  },
  {
   "cell_type": "code",
   "execution_count": 97,
   "metadata": {},
   "outputs": [],
   "source": [
    "bpnad.to_excel('base_pnad_q2.xlsx', index=False)"
   ]
  },
  {
   "cell_type": "markdown",
   "metadata": {},
   "source": [
    "## Criando a base de dados para a questão 4"
   ]
  },
  {
   "cell_type": "markdown",
   "metadata": {},
   "source": [
    "#### Para essa amostra, vamos considerar apenas os indivíduos com VD4001 preenchidos"
   ]
  },
  {
   "cell_type": "code",
   "execution_count": 34,
   "metadata": {},
   "outputs": [],
   "source": [
    "bq4 = bBruta.copy()"
   ]
  },
  {
   "cell_type": "code",
   "execution_count": 103,
   "metadata": {
    "scrolled": true
   },
   "outputs": [
    {
     "data": {
      "text/plain": [
       "array(['Unnamed: 0', 'Ano', 'Trimestre', 'UF', 'Capital', 'RM_RIDE',\n",
       "       'UPA', 'Estrato', 'V1008', 'V1014', 'V1016', 'V1022', 'V1023',\n",
       "       'V1027', 'V1028', 'V1029', 'posest', 'V2001', 'V2003', 'V2005',\n",
       "       'V2007', 'V2008', 'V20081', 'V20082', 'V2009', 'V2010', 'V3001',\n",
       "       'V3002', 'V3002A', 'V3003', 'V3003A', 'V3004', 'V3005', 'V3005A',\n",
       "       'V3006', 'V3006A', 'V3007', 'V3008', 'V3009', 'V3009A', 'V3010',\n",
       "       'V3011', 'V3011A', 'V3012', 'V3013', 'V3013A', 'V3013B', 'V3014',\n",
       "       'V4001', 'V4002', 'V4003', 'V4004', 'V4005', 'V4006', 'V4006A',\n",
       "       'V4007', 'V4008', 'V40081', 'V40082', 'V40083', 'V4009', 'V4010',\n",
       "       'V4012', 'V40121', 'V4013', 'V40132', 'V40132A', 'V4014', 'V4015',\n",
       "       'V40151', 'V401511', 'V401512', 'V4016', 'V40161', 'V40162',\n",
       "       'V40163', 'V4017', 'V40171', 'V401711', 'V4018', 'V40181',\n",
       "       'V40182', 'V40183', 'V4019', 'V4020', 'V4021', 'V4022', 'V4024',\n",
       "       'V4025', 'V4026', 'V4027', 'V4028', 'V4029', 'V4032', 'V4033',\n",
       "       'V40331', 'V403311', 'V403312', 'V40332', 'V403321', 'V403322',\n",
       "       'V40333', 'V403331', 'V4034', 'V40341', 'V403411', 'V403412',\n",
       "       'V40342', 'V403421', 'V403422', 'V4039', 'V4039C', 'V4040',\n",
       "       'V40401', 'V40402', 'V40403', 'V4041', 'V4043', 'V40431', 'V4044',\n",
       "       'V4045', 'V4046', 'V4047', 'V4048', 'V4049', 'V4050', 'V40501',\n",
       "       'V405011', 'V405012', 'V40502', 'V405021', 'V405022', 'V40503',\n",
       "       'V405031', 'V4051', 'V40511', 'V405111', 'V405112', 'V40512',\n",
       "       'V405121', 'V405122', 'V4056', 'V4056C', 'V4057', 'V4058',\n",
       "       'V40581', 'V405811', 'V405812', 'V40582', 'V405821', 'V405822',\n",
       "       'V40583', 'V405831', 'V40584', 'V4059', 'V40591', 'V405911',\n",
       "       'V405912', 'V40592', 'V405921', 'V405922', 'V4062', 'V4062C',\n",
       "       'V4063', 'V4063A', 'V4064', 'V4064A', 'V4071', 'V4072', 'V4072A',\n",
       "       'V4073', 'V4074', 'V4074A', 'V4075A', 'V4075A1', 'V4076', 'V40761',\n",
       "       'V40762', 'V40763', 'V4077', 'V4078', 'V4078A', 'V4082', 'VD2002',\n",
       "       'VD2003', 'VD2004', 'VD3004', 'VD3005', 'VD3006', 'VD4001',\n",
       "       'VD4002', 'VD4003', 'VD4004', 'VD4004A', 'VD4005', 'VD4007',\n",
       "       'VD4008', 'VD4009', 'VD4010', 'VD4011', 'VD4012', 'VD4013',\n",
       "       'VD4014', 'VD4015', 'VD4016', 'VD4017', 'VD4018', 'VD4019',\n",
       "       'VD4020', 'VD4023', 'VD4030', 'VD4031', 'VD4032', 'VD4033',\n",
       "       'VD4034', 'VD4035', 'VD4036', 'VD4037', 'painel', 'idind', 'iddom',\n",
       "       'Salario/hora', 'log(Salario/hora)', 'Idade_2', 'preta', 'parda',\n",
       "       'Superior_incompleto', 'Medio_completo', 'Medio_incompleto',\n",
       "       'Fund_completo', 'Fund_incompleto', 'Sem instrução', 'filho',\n",
       "       'filho_7anos', 'data', 'num_filhos', 'num_filhos7anos', 'ocupado',\n",
       "       'casado'], dtype=object)"
      ]
     },
     "execution_count": 103,
     "metadata": {},
     "output_type": "execute_result"
    }
   ],
   "source": [
    "bq4.columns.values"
   ]
  },
  {
   "cell_type": "markdown",
   "metadata": {},
   "source": [
    "#### Criando a variável iddom (permite fazer contas por domicílio)"
   ]
  },
  {
   "cell_type": "code",
   "execution_count": 35,
   "metadata": {},
   "outputs": [],
   "source": [
    "bq4.loc[bq4['V1008'] < 10,'iddom'] = (bq4['painel'].astype(str)) + (bq4['UF'].astype(str)) + (bq4['UPA'].astype(str)) + '0' + (bq4['V1008'].astype(str))\n",
    "bq4.loc[bq4['V1008'] >= 10,'iddom'] = (bq4['painel'].astype(str)) + (bq4['UF'].astype(str)) + (bq4['UPA'].astype(str)) + (bq4['V1008'].astype(str))"
   ]
  },
  {
   "cell_type": "markdown",
   "metadata": {},
   "source": [
    "#### Criando variáveis salário/hora, log(salário/hora) e idade²"
   ]
  },
  {
   "cell_type": "code",
   "execution_count": 36,
   "metadata": {},
   "outputs": [],
   "source": [
    "bq4.loc[:,'Salario/hora'] = (bq4.VD4019 / (bq4.VD4031 * 5))\n",
    "bq4.loc[:,'log(Salario/hora)'] = (bq4['Salario/hora'].apply(lambda x: math.log10(x)))\n",
    "bq4.loc[:,'Idade_2'] = (bq4['V2009'] ** 2)"
   ]
  },
  {
   "cell_type": "code",
   "execution_count": 117,
   "metadata": {
    "scrolled": false
   },
   "outputs": [
    {
     "data": {
      "text/html": [
       "<div>\n",
       "<style scoped>\n",
       "    .dataframe tbody tr th:only-of-type {\n",
       "        vertical-align: middle;\n",
       "    }\n",
       "\n",
       "    .dataframe tbody tr th {\n",
       "        vertical-align: top;\n",
       "    }\n",
       "\n",
       "    .dataframe thead th {\n",
       "        text-align: right;\n",
       "    }\n",
       "</style>\n",
       "<table border=\"1\" class=\"dataframe\">\n",
       "  <thead>\n",
       "    <tr style=\"text-align: right;\">\n",
       "      <th></th>\n",
       "      <th>Unnamed: 0</th>\n",
       "      <th>Ano</th>\n",
       "      <th>Trimestre</th>\n",
       "      <th>UF</th>\n",
       "      <th>Capital</th>\n",
       "      <th>RM_RIDE</th>\n",
       "      <th>UPA</th>\n",
       "      <th>Estrato</th>\n",
       "      <th>V1008</th>\n",
       "      <th>V1014</th>\n",
       "      <th>...</th>\n",
       "      <th>VD4034</th>\n",
       "      <th>VD4035</th>\n",
       "      <th>VD4036</th>\n",
       "      <th>VD4037</th>\n",
       "      <th>painel</th>\n",
       "      <th>idind</th>\n",
       "      <th>iddom</th>\n",
       "      <th>Salario/hora</th>\n",
       "      <th>log(Salario/hora)</th>\n",
       "      <th>Idade_2</th>\n",
       "    </tr>\n",
       "  </thead>\n",
       "  <tbody>\n",
       "    <tr>\n",
       "      <th>0</th>\n",
       "      <td>0</td>\n",
       "      <td>2013</td>\n",
       "      <td>4</td>\n",
       "      <td>50</td>\n",
       "      <td>NaN</td>\n",
       "      <td>NaN</td>\n",
       "      <td>500000045</td>\n",
       "      <td>5052012</td>\n",
       "      <td>1</td>\n",
       "      <td>2</td>\n",
       "      <td>...</td>\n",
       "      <td>0.0</td>\n",
       "      <td>48.0</td>\n",
       "      <td>4.0</td>\n",
       "      <td>4.0</td>\n",
       "      <td>2.0</td>\n",
       "      <td>250500000045001001</td>\n",
       "      <td>2.0505000000451</td>\n",
       "      <td>5.000000</td>\n",
       "      <td>0.698970</td>\n",
       "      <td>1681</td>\n",
       "    </tr>\n",
       "    <tr>\n",
       "      <th>1</th>\n",
       "      <td>1</td>\n",
       "      <td>2013</td>\n",
       "      <td>1</td>\n",
       "      <td>50</td>\n",
       "      <td>NaN</td>\n",
       "      <td>NaN</td>\n",
       "      <td>500000045</td>\n",
       "      <td>5052012</td>\n",
       "      <td>1</td>\n",
       "      <td>2</td>\n",
       "      <td>...</td>\n",
       "      <td>0.0</td>\n",
       "      <td>32.0</td>\n",
       "      <td>2.0</td>\n",
       "      <td>2.0</td>\n",
       "      <td>2.0</td>\n",
       "      <td>250500000045001001</td>\n",
       "      <td>2.0505000000451</td>\n",
       "      <td>6.250000</td>\n",
       "      <td>0.795880</td>\n",
       "      <td>1681</td>\n",
       "    </tr>\n",
       "    <tr>\n",
       "      <th>2</th>\n",
       "      <td>2</td>\n",
       "      <td>2013</td>\n",
       "      <td>2</td>\n",
       "      <td>50</td>\n",
       "      <td>NaN</td>\n",
       "      <td>NaN</td>\n",
       "      <td>500000045</td>\n",
       "      <td>5052012</td>\n",
       "      <td>1</td>\n",
       "      <td>2</td>\n",
       "      <td>...</td>\n",
       "      <td>0.0</td>\n",
       "      <td>48.0</td>\n",
       "      <td>4.0</td>\n",
       "      <td>4.0</td>\n",
       "      <td>2.0</td>\n",
       "      <td>250500000045001001</td>\n",
       "      <td>2.0505000000451</td>\n",
       "      <td>4.166667</td>\n",
       "      <td>0.619789</td>\n",
       "      <td>1681</td>\n",
       "    </tr>\n",
       "    <tr>\n",
       "      <th>3</th>\n",
       "      <td>3</td>\n",
       "      <td>2013</td>\n",
       "      <td>3</td>\n",
       "      <td>50</td>\n",
       "      <td>NaN</td>\n",
       "      <td>NaN</td>\n",
       "      <td>500000045</td>\n",
       "      <td>5052012</td>\n",
       "      <td>1</td>\n",
       "      <td>2</td>\n",
       "      <td>...</td>\n",
       "      <td>0.0</td>\n",
       "      <td>48.0</td>\n",
       "      <td>4.0</td>\n",
       "      <td>4.0</td>\n",
       "      <td>2.0</td>\n",
       "      <td>250500000045001001</td>\n",
       "      <td>2.0505000000451</td>\n",
       "      <td>6.250000</td>\n",
       "      <td>0.795880</td>\n",
       "      <td>1681</td>\n",
       "    </tr>\n",
       "    <tr>\n",
       "      <th>4</th>\n",
       "      <td>4</td>\n",
       "      <td>2014</td>\n",
       "      <td>1</td>\n",
       "      <td>50</td>\n",
       "      <td>NaN</td>\n",
       "      <td>NaN</td>\n",
       "      <td>500000045</td>\n",
       "      <td>5052012</td>\n",
       "      <td>1</td>\n",
       "      <td>2</td>\n",
       "      <td>...</td>\n",
       "      <td>0.0</td>\n",
       "      <td>24.0</td>\n",
       "      <td>3.0</td>\n",
       "      <td>2.0</td>\n",
       "      <td>2.0</td>\n",
       "      <td>250500000045001001</td>\n",
       "      <td>2.0505000000451</td>\n",
       "      <td>5.454545</td>\n",
       "      <td>0.736759</td>\n",
       "      <td>1764</td>\n",
       "    </tr>\n",
       "  </tbody>\n",
       "</table>\n",
       "<p>5 rows × 224 columns</p>\n",
       "</div>"
      ],
      "text/plain": [
       "   Unnamed: 0   Ano  Trimestre  UF  Capital  RM_RIDE        UPA  Estrato  \\\n",
       "0           0  2013          4  50      NaN      NaN  500000045  5052012   \n",
       "1           1  2013          1  50      NaN      NaN  500000045  5052012   \n",
       "2           2  2013          2  50      NaN      NaN  500000045  5052012   \n",
       "3           3  2013          3  50      NaN      NaN  500000045  5052012   \n",
       "4           4  2014          1  50      NaN      NaN  500000045  5052012   \n",
       "\n",
       "   V1008  V1014  ...  VD4034  VD4035  VD4036  VD4037  painel  \\\n",
       "0      1      2  ...     0.0    48.0     4.0     4.0     2.0   \n",
       "1      1      2  ...     0.0    32.0     2.0     2.0     2.0   \n",
       "2      1      2  ...     0.0    48.0     4.0     4.0     2.0   \n",
       "3      1      2  ...     0.0    48.0     4.0     4.0     2.0   \n",
       "4      1      2  ...     0.0    24.0     3.0     2.0     2.0   \n",
       "\n",
       "                idind            iddom  Salario/hora  log(Salario/hora)  \\\n",
       "0  250500000045001001  2.0505000000451      5.000000           0.698970   \n",
       "1  250500000045001001  2.0505000000451      6.250000           0.795880   \n",
       "2  250500000045001001  2.0505000000451      4.166667           0.619789   \n",
       "3  250500000045001001  2.0505000000451      6.250000           0.795880   \n",
       "4  250500000045001001  2.0505000000451      5.454545           0.736759   \n",
       "\n",
       "   Idade_2  \n",
       "0     1681  \n",
       "1     1681  \n",
       "2     1681  \n",
       "3     1681  \n",
       "4     1764  \n",
       "\n",
       "[5 rows x 224 columns]"
      ]
     },
     "execution_count": 117,
     "metadata": {},
     "output_type": "execute_result"
    }
   ],
   "source": [
    "bq4.head()"
   ]
  },
  {
   "cell_type": "markdown",
   "metadata": {},
   "source": [
    "#### Normalizando a coluna V1023 para Capital e a coluna V2007 para Sexo"
   ]
  },
  {
   "cell_type": "code",
   "execution_count": 37,
   "metadata": {},
   "outputs": [],
   "source": [
    "bq4.loc[:,'V1023'] = bq4['V1023'].replace([4,3,2], 0)\n",
    "bq4.loc[:,'V2007'] = bq4['V2007'].replace(1, 0)\n",
    "bq4.loc[:,'V2007'] = bq4['V2007'].replace(2, 1)"
   ]
  },
  {
   "cell_type": "markdown",
   "metadata": {},
   "source": [
    "#### Criando e normalizando colunas de raça"
   ]
  },
  {
   "cell_type": "code",
   "execution_count": 38,
   "metadata": {},
   "outputs": [],
   "source": [
    "bq4.loc[:,'preta'] = (bq4['V2010']).copy()\n",
    "bq4.loc[:,'parda'] = (bq4['V2010']).copy()"
   ]
  },
  {
   "cell_type": "code",
   "execution_count": 39,
   "metadata": {},
   "outputs": [],
   "source": [
    "bq4.loc[:,'preta'] = bq4['preta'].replace([1,3,4], 0)\n",
    "bq4.loc[:,'preta'] = bq4['preta'].replace([2,5], 1)"
   ]
  },
  {
   "cell_type": "code",
   "execution_count": 40,
   "metadata": {},
   "outputs": [],
   "source": [
    "bq4.loc[:,'parda'] = bq4['parda'].replace([1,2,3,5], 0)\n",
    "bq4.loc[:,'parda'] = bq4['parda'].replace(4, 1)"
   ]
  },
  {
   "cell_type": "markdown",
   "metadata": {},
   "source": [
    "#### Normalizando a coluna V3002 para Frequenta Escola e a coluna V4009 para Mais de Um Trabalho"
   ]
  },
  {
   "cell_type": "code",
   "execution_count": 41,
   "metadata": {},
   "outputs": [],
   "source": [
    "bq4.loc[:,'V3002'] = bq4['V3002'].replace(2, 0)"
   ]
  },
  {
   "cell_type": "code",
   "execution_count": 42,
   "metadata": {},
   "outputs": [],
   "source": [
    "bq4.loc[:,'V4009'] = bq4['V4009'].replace(1, 0)\n",
    "bq4.loc[:,'V4009'] = bq4['V4009'].replace([2,3], 1)"
   ]
  },
  {
   "cell_type": "markdown",
   "metadata": {},
   "source": [
    "#### Normalizando a coluna VD4008 para Servidor Público"
   ]
  },
  {
   "cell_type": "code",
   "execution_count": 43,
   "metadata": {},
   "outputs": [],
   "source": [
    "bq4.loc[:,'VD4008'] = bq4['VD4008'].replace([1,2,4,5,6], 0)\n",
    "bq4.loc[:,'VD4008'] = bq4['VD4008'].replace(3, 1)"
   ]
  },
  {
   "cell_type": "markdown",
   "metadata": {},
   "source": [
    "#### Criando e normalizando colunas de Ensino Mais Elevado"
   ]
  },
  {
   "cell_type": "code",
   "execution_count": 44,
   "metadata": {},
   "outputs": [],
   "source": [
    "bq4.loc[:,'Superior_incompleto'] = (bq4['VD3004']).copy()\n",
    "bq4.loc[:,'Medio_completo'] = (bq4['VD3004']).copy()\n",
    "bq4.loc[:,'Medio_incompleto'] = (bq4['VD3004']).copy()\n",
    "bq4.loc[:,'Fund_completo'] = (bq4['VD3004']).copy()\n",
    "bq4.loc[:,'Fund_incompleto'] = (bq4['VD3004']).copy()\n",
    "bq4.loc[:,'Sem instrução'] = (bq4['VD3004']).copy()"
   ]
  },
  {
   "cell_type": "code",
   "execution_count": 45,
   "metadata": {},
   "outputs": [],
   "source": [
    "bq4.loc[:,'Superior_incompleto'] = bq4['Superior_incompleto'].replace([1,2,3,4,5,7],0)\n",
    "bq4.loc[:,'Superior_incompleto'] = bq4['Superior_incompleto'].replace(6,1)\n",
    "\n",
    "bq4.loc[:,'Medio_completo'] = bq4['Medio_completo'].replace([1,2,3,4,6,7],0)\n",
    "bq4.loc[:,'Medio_completo'] = bq4['Medio_completo'].replace(5,1)\n",
    "\n",
    "bq4.loc[:,'Medio_incompleto'] = bq4['Medio_incompleto'].replace([1,2,3,5,6,7],0)\n",
    "bq4.loc[:,'Medio_incompleto'] = bq4['Medio_incompleto'].replace(4,1)\n",
    "\n",
    "bq4.loc[:,'Fund_completo'] = bq4['Fund_completo'].replace([1,2,4,5,6,7],0)\n",
    "bq4.loc[:,'Fund_completo'] = bq4['Fund_completo'].replace(3,1)\n",
    "\n",
    "bq4.loc[:,'Fund_incompleto'] = bq4['Fund_incompleto'].replace([1,3,4,5,6,7],0)\n",
    "bq4.loc[:,'Fund_incompleto'] = bq4['Fund_incompleto'].replace(2,1)\n",
    "\n",
    "bq4.loc[:,'Sem instrução'] = bq4['Sem instrução'].replace([2,3,4,5,6,7],0)"
   ]
  },
  {
   "cell_type": "markdown",
   "metadata": {},
   "source": [
    "#### Criando a variável filhos e filhos menores que 7 anos por domicílio"
   ]
  },
  {
   "cell_type": "code",
   "execution_count": 46,
   "metadata": {},
   "outputs": [],
   "source": [
    "bq4['filho'] = 0\n",
    "\n",
    "bq4.loc[bq4['VD2002'] == 3, 'filho'] = 1\n",
    "bq4.loc[bq4['VD2002'] == 4, 'filho'] = 1"
   ]
  },
  {
   "cell_type": "code",
   "execution_count": 47,
   "metadata": {},
   "outputs": [],
   "source": [
    "bq4['filho_7anos'] = 0\n",
    "\n",
    "bq4.loc[(bq4['filho'] == 1) & (bq4['V2009'] <= 7), 'filho_7anos'] = 1"
   ]
  },
  {
   "cell_type": "code",
   "execution_count": 48,
   "metadata": {
    "scrolled": true
   },
   "outputs": [
    {
     "data": {
      "text/html": [
       "<div>\n",
       "<style scoped>\n",
       "    .dataframe tbody tr th:only-of-type {\n",
       "        vertical-align: middle;\n",
       "    }\n",
       "\n",
       "    .dataframe tbody tr th {\n",
       "        vertical-align: top;\n",
       "    }\n",
       "\n",
       "    .dataframe thead th {\n",
       "        text-align: right;\n",
       "    }\n",
       "</style>\n",
       "<table border=\"1\" class=\"dataframe\">\n",
       "  <thead>\n",
       "    <tr style=\"text-align: right;\">\n",
       "      <th></th>\n",
       "      <th>Unnamed: 0</th>\n",
       "      <th>Ano</th>\n",
       "      <th>Trimestre</th>\n",
       "      <th>UF</th>\n",
       "      <th>Capital</th>\n",
       "      <th>RM_RIDE</th>\n",
       "      <th>UPA</th>\n",
       "      <th>Estrato</th>\n",
       "      <th>V1008</th>\n",
       "      <th>V1014</th>\n",
       "      <th>...</th>\n",
       "      <th>preta</th>\n",
       "      <th>parda</th>\n",
       "      <th>Superior_incompleto</th>\n",
       "      <th>Medio_completo</th>\n",
       "      <th>Medio_incompleto</th>\n",
       "      <th>Fund_completo</th>\n",
       "      <th>Fund_incompleto</th>\n",
       "      <th>Sem instrução</th>\n",
       "      <th>filho</th>\n",
       "      <th>filho_7anos</th>\n",
       "    </tr>\n",
       "  </thead>\n",
       "  <tbody>\n",
       "    <tr>\n",
       "      <th>0</th>\n",
       "      <td>0</td>\n",
       "      <td>2013</td>\n",
       "      <td>4</td>\n",
       "      <td>50</td>\n",
       "      <td>NaN</td>\n",
       "      <td>NaN</td>\n",
       "      <td>500000045</td>\n",
       "      <td>5052012</td>\n",
       "      <td>1</td>\n",
       "      <td>2</td>\n",
       "      <td>...</td>\n",
       "      <td>0</td>\n",
       "      <td>0</td>\n",
       "      <td>0.0</td>\n",
       "      <td>0.0</td>\n",
       "      <td>0.0</td>\n",
       "      <td>0.0</td>\n",
       "      <td>1.0</td>\n",
       "      <td>0.0</td>\n",
       "      <td>0</td>\n",
       "      <td>0</td>\n",
       "    </tr>\n",
       "    <tr>\n",
       "      <th>1</th>\n",
       "      <td>1</td>\n",
       "      <td>2013</td>\n",
       "      <td>1</td>\n",
       "      <td>50</td>\n",
       "      <td>NaN</td>\n",
       "      <td>NaN</td>\n",
       "      <td>500000045</td>\n",
       "      <td>5052012</td>\n",
       "      <td>1</td>\n",
       "      <td>2</td>\n",
       "      <td>...</td>\n",
       "      <td>0</td>\n",
       "      <td>1</td>\n",
       "      <td>0.0</td>\n",
       "      <td>0.0</td>\n",
       "      <td>0.0</td>\n",
       "      <td>0.0</td>\n",
       "      <td>1.0</td>\n",
       "      <td>0.0</td>\n",
       "      <td>0</td>\n",
       "      <td>0</td>\n",
       "    </tr>\n",
       "    <tr>\n",
       "      <th>2</th>\n",
       "      <td>2</td>\n",
       "      <td>2013</td>\n",
       "      <td>2</td>\n",
       "      <td>50</td>\n",
       "      <td>NaN</td>\n",
       "      <td>NaN</td>\n",
       "      <td>500000045</td>\n",
       "      <td>5052012</td>\n",
       "      <td>1</td>\n",
       "      <td>2</td>\n",
       "      <td>...</td>\n",
       "      <td>0</td>\n",
       "      <td>1</td>\n",
       "      <td>0.0</td>\n",
       "      <td>0.0</td>\n",
       "      <td>0.0</td>\n",
       "      <td>0.0</td>\n",
       "      <td>1.0</td>\n",
       "      <td>0.0</td>\n",
       "      <td>0</td>\n",
       "      <td>0</td>\n",
       "    </tr>\n",
       "    <tr>\n",
       "      <th>3</th>\n",
       "      <td>3</td>\n",
       "      <td>2013</td>\n",
       "      <td>3</td>\n",
       "      <td>50</td>\n",
       "      <td>NaN</td>\n",
       "      <td>NaN</td>\n",
       "      <td>500000045</td>\n",
       "      <td>5052012</td>\n",
       "      <td>1</td>\n",
       "      <td>2</td>\n",
       "      <td>...</td>\n",
       "      <td>0</td>\n",
       "      <td>0</td>\n",
       "      <td>0.0</td>\n",
       "      <td>0.0</td>\n",
       "      <td>0.0</td>\n",
       "      <td>0.0</td>\n",
       "      <td>1.0</td>\n",
       "      <td>0.0</td>\n",
       "      <td>0</td>\n",
       "      <td>0</td>\n",
       "    </tr>\n",
       "    <tr>\n",
       "      <th>4</th>\n",
       "      <td>4</td>\n",
       "      <td>2014</td>\n",
       "      <td>1</td>\n",
       "      <td>50</td>\n",
       "      <td>NaN</td>\n",
       "      <td>NaN</td>\n",
       "      <td>500000045</td>\n",
       "      <td>5052012</td>\n",
       "      <td>1</td>\n",
       "      <td>2</td>\n",
       "      <td>...</td>\n",
       "      <td>0</td>\n",
       "      <td>1</td>\n",
       "      <td>0.0</td>\n",
       "      <td>0.0</td>\n",
       "      <td>0.0</td>\n",
       "      <td>0.0</td>\n",
       "      <td>1.0</td>\n",
       "      <td>0.0</td>\n",
       "      <td>0</td>\n",
       "      <td>0</td>\n",
       "    </tr>\n",
       "  </tbody>\n",
       "</table>\n",
       "<p>5 rows × 234 columns</p>\n",
       "</div>"
      ],
      "text/plain": [
       "   Unnamed: 0   Ano  Trimestre  UF  Capital  RM_RIDE        UPA  Estrato  \\\n",
       "0           0  2013          4  50      NaN      NaN  500000045  5052012   \n",
       "1           1  2013          1  50      NaN      NaN  500000045  5052012   \n",
       "2           2  2013          2  50      NaN      NaN  500000045  5052012   \n",
       "3           3  2013          3  50      NaN      NaN  500000045  5052012   \n",
       "4           4  2014          1  50      NaN      NaN  500000045  5052012   \n",
       "\n",
       "   V1008  V1014  ...  preta  parda  Superior_incompleto  Medio_completo  \\\n",
       "0      1      2  ...      0      0                  0.0             0.0   \n",
       "1      1      2  ...      0      1                  0.0             0.0   \n",
       "2      1      2  ...      0      1                  0.0             0.0   \n",
       "3      1      2  ...      0      0                  0.0             0.0   \n",
       "4      1      2  ...      0      1                  0.0             0.0   \n",
       "\n",
       "   Medio_incompleto  Fund_completo  Fund_incompleto  Sem instrução  filho  \\\n",
       "0               0.0            0.0              1.0            0.0      0   \n",
       "1               0.0            0.0              1.0            0.0      0   \n",
       "2               0.0            0.0              1.0            0.0      0   \n",
       "3               0.0            0.0              1.0            0.0      0   \n",
       "4               0.0            0.0              1.0            0.0      0   \n",
       "\n",
       "   filho_7anos  \n",
       "0            0  \n",
       "1            0  \n",
       "2            0  \n",
       "3            0  \n",
       "4            0  \n",
       "\n",
       "[5 rows x 234 columns]"
      ]
     },
     "execution_count": 48,
     "metadata": {},
     "output_type": "execute_result"
    }
   ],
   "source": [
    "bq4.head()"
   ]
  },
  {
   "cell_type": "code",
   "execution_count": 49,
   "metadata": {
    "scrolled": true
   },
   "outputs": [
    {
     "data": {
      "text/plain": [
       "0    246152\n",
       "1     25389\n",
       "Name: filho_7anos, dtype: int64"
      ]
     },
     "execution_count": 49,
     "metadata": {},
     "output_type": "execute_result"
    }
   ],
   "source": [
    "bq4['filho_7anos'].value_counts()"
   ]
  },
  {
   "cell_type": "code",
   "execution_count": 50,
   "metadata": {},
   "outputs": [],
   "source": [
    "bq4['data'] = (bq4['Ano'].astype(str)) + (bq4['Trimestre'].astype(str))"
   ]
  },
  {
   "cell_type": "code",
   "execution_count": 51,
   "metadata": {},
   "outputs": [],
   "source": [
    "bq4['num_filhos'] = bq4.groupby(['iddom', 'data'])['filho'].transform('sum')\n",
    "bq4['num_filhos7anos'] = bq4.groupby(['iddom', 'data'])['filho_7anos'].transform('sum')"
   ]
  },
  {
   "cell_type": "code",
   "execution_count": 52,
   "metadata": {},
   "outputs": [],
   "source": [
    "bq4.loc[bq4['VD2002'] > 2, 'num_filhos'] = 0\n",
    "bq4.loc[bq4['VD2002'] > 2, 'num_filhos7anos'] = 0"
   ]
  },
  {
   "cell_type": "code",
   "execution_count": 53,
   "metadata": {},
   "outputs": [
    {
     "data": {
      "text/html": [
       "<div>\n",
       "<style scoped>\n",
       "    .dataframe tbody tr th:only-of-type {\n",
       "        vertical-align: middle;\n",
       "    }\n",
       "\n",
       "    .dataframe tbody tr th {\n",
       "        vertical-align: top;\n",
       "    }\n",
       "\n",
       "    .dataframe thead th {\n",
       "        text-align: right;\n",
       "    }\n",
       "</style>\n",
       "<table border=\"1\" class=\"dataframe\">\n",
       "  <thead>\n",
       "    <tr style=\"text-align: right;\">\n",
       "      <th></th>\n",
       "      <th>idind</th>\n",
       "      <th>iddom</th>\n",
       "      <th>VD2002</th>\n",
       "      <th>data</th>\n",
       "      <th>num_filhos</th>\n",
       "      <th>num_filhos7anos</th>\n",
       "    </tr>\n",
       "  </thead>\n",
       "  <tbody>\n",
       "    <tr>\n",
       "      <th>46882</th>\n",
       "      <td>250500031894009001</td>\n",
       "      <td>2.05050003189409</td>\n",
       "      <td>1</td>\n",
       "      <td>20134</td>\n",
       "      <td>7</td>\n",
       "      <td>5</td>\n",
       "    </tr>\n",
       "    <tr>\n",
       "      <th>46884</th>\n",
       "      <td>250500031894009002</td>\n",
       "      <td>2.05050003189409</td>\n",
       "      <td>2</td>\n",
       "      <td>20134</td>\n",
       "      <td>7</td>\n",
       "      <td>5</td>\n",
       "    </tr>\n",
       "    <tr>\n",
       "      <th>46880</th>\n",
       "      <td>250500031894009001</td>\n",
       "      <td>2.05050003189409</td>\n",
       "      <td>1</td>\n",
       "      <td>20141</td>\n",
       "      <td>7</td>\n",
       "      <td>5</td>\n",
       "    </tr>\n",
       "    <tr>\n",
       "      <th>46886</th>\n",
       "      <td>250500031894009002</td>\n",
       "      <td>2.05050003189409</td>\n",
       "      <td>2</td>\n",
       "      <td>20141</td>\n",
       "      <td>7</td>\n",
       "      <td>5</td>\n",
       "    </tr>\n",
       "    <tr>\n",
       "      <th>60979</th>\n",
       "      <td>251510000735010001</td>\n",
       "      <td>2.05151000073510</td>\n",
       "      <td>1</td>\n",
       "      <td>20121</td>\n",
       "      <td>6</td>\n",
       "      <td>5</td>\n",
       "    </tr>\n",
       "    <tr>\n",
       "      <th>60980</th>\n",
       "      <td>251510000735010002</td>\n",
       "      <td>2.05151000073510</td>\n",
       "      <td>2</td>\n",
       "      <td>20121</td>\n",
       "      <td>6</td>\n",
       "      <td>5</td>\n",
       "    </tr>\n",
       "    <tr>\n",
       "      <th>184985</th>\n",
       "      <td>252520053159013001</td>\n",
       "      <td>2.05252005315913</td>\n",
       "      <td>1</td>\n",
       "      <td>20122</td>\n",
       "      <td>6</td>\n",
       "      <td>5</td>\n",
       "    </tr>\n",
       "    <tr>\n",
       "      <th>184988</th>\n",
       "      <td>252520053159013002</td>\n",
       "      <td>2.05252005315913</td>\n",
       "      <td>2</td>\n",
       "      <td>20122</td>\n",
       "      <td>6</td>\n",
       "      <td>5</td>\n",
       "    </tr>\n",
       "  </tbody>\n",
       "</table>\n",
       "</div>"
      ],
      "text/plain": [
       "                     idind             iddom  VD2002   data  num_filhos  \\\n",
       "46882   250500031894009001  2.05050003189409       1  20134           7   \n",
       "46884   250500031894009002  2.05050003189409       2  20134           7   \n",
       "46880   250500031894009001  2.05050003189409       1  20141           7   \n",
       "46886   250500031894009002  2.05050003189409       2  20141           7   \n",
       "60979   251510000735010001  2.05151000073510       1  20121           6   \n",
       "60980   251510000735010002  2.05151000073510       2  20121           6   \n",
       "184985  252520053159013001  2.05252005315913       1  20122           6   \n",
       "184988  252520053159013002  2.05252005315913       2  20122           6   \n",
       "\n",
       "        num_filhos7anos  \n",
       "46882                 5  \n",
       "46884                 5  \n",
       "46880                 5  \n",
       "46886                 5  \n",
       "60979                 5  \n",
       "60980                 5  \n",
       "184985                5  \n",
       "184988                5  "
      ]
     },
     "execution_count": 53,
     "metadata": {},
     "output_type": "execute_result"
    }
   ],
   "source": [
    "bq4[['idind','iddom', 'VD2002', 'data','num_filhos','num_filhos7anos']][bq4['num_filhos7anos'] == 5].sort_values(by=['iddom','data'])"
   ]
  },
  {
   "cell_type": "code",
   "execution_count": 54,
   "metadata": {},
   "outputs": [
    {
     "data": {
      "text/plain": [
       "0    0.864510\n",
       "1    0.100640\n",
       "2    0.029959\n",
       "3    0.004412\n",
       "4    0.000449\n",
       "5    0.000029\n",
       "Name: num_filhos7anos, dtype: float64"
      ]
     },
     "execution_count": 54,
     "metadata": {},
     "output_type": "execute_result"
    }
   ],
   "source": [
    "bq4['num_filhos7anos'].value_counts(normalize=True)"
   ]
  },
  {
   "cell_type": "markdown",
   "metadata": {},
   "source": [
    "#### Limpando as colunas"
   ]
  },
  {
   "cell_type": "code",
   "execution_count": 218,
   "metadata": {
    "scrolled": true
   },
   "outputs": [
    {
     "data": {
      "text/plain": [
       "array(['Unnamed: 0', 'Ano', 'Trimestre', 'UF', 'Capital', 'RM_RIDE',\n",
       "       'UPA', 'Estrato', 'V1008', 'V1014', 'V1016', 'V1022', 'V1023',\n",
       "       'V1027', 'V1028', 'V1029', 'posest', 'V2001', 'V2003', 'V2005',\n",
       "       'V2007', 'V2008', 'V20081', 'V20082', 'V2009', 'V2010', 'V3001',\n",
       "       'V3002', 'V3002A', 'V3003', 'V3003A', 'V3004', 'V3005', 'V3005A',\n",
       "       'V3006', 'V3006A', 'V3007', 'V3008', 'V3009', 'V3009A', 'V3010',\n",
       "       'V3011', 'V3011A', 'V3012', 'V3013', 'V3013A', 'V3013B', 'V3014',\n",
       "       'V4001', 'V4002', 'V4003', 'V4004', 'V4005', 'V4006', 'V4006A',\n",
       "       'V4007', 'V4008', 'V40081', 'V40082', 'V40083', 'V4009', 'V4010',\n",
       "       'V4012', 'V40121', 'V4013', 'V40132', 'V40132A', 'V4014', 'V4015',\n",
       "       'V40151', 'V401511', 'V401512', 'V4016', 'V40161', 'V40162',\n",
       "       'V40163', 'V4017', 'V40171', 'V401711', 'V4018', 'V40181',\n",
       "       'V40182', 'V40183', 'V4019', 'V4020', 'V4021', 'V4022', 'V4024',\n",
       "       'V4025', 'V4026', 'V4027', 'V4028', 'V4029', 'V4032', 'V4033',\n",
       "       'V40331', 'V403311', 'V403312', 'V40332', 'V403321', 'V403322',\n",
       "       'V40333', 'V403331', 'V4034', 'V40341', 'V403411', 'V403412',\n",
       "       'V40342', 'V403421', 'V403422', 'V4039', 'V4039C', 'V4040',\n",
       "       'V40401', 'V40402', 'V40403', 'V4041', 'V4043', 'V40431', 'V4044',\n",
       "       'V4045', 'V4046', 'V4047', 'V4048', 'V4049', 'V4050', 'V40501',\n",
       "       'V405011', 'V405012', 'V40502', 'V405021', 'V405022', 'V40503',\n",
       "       'V405031', 'V4051', 'V40511', 'V405111', 'V405112', 'V40512',\n",
       "       'V405121', 'V405122', 'V4056', 'V4056C', 'V4057', 'V4058',\n",
       "       'V40581', 'V405811', 'V405812', 'V40582', 'V405821', 'V405822',\n",
       "       'V40583', 'V405831', 'V40584', 'V4059', 'V40591', 'V405911',\n",
       "       'V405912', 'V40592', 'V405921', 'V405922', 'V4062', 'V4062C',\n",
       "       'V4063', 'V4063A', 'V4064', 'V4064A', 'V4071', 'V4072', 'V4072A',\n",
       "       'V4073', 'V4074', 'V4074A', 'V4075A', 'V4075A1', 'V4076', 'V40761',\n",
       "       'V40762', 'V40763', 'V4077', 'V4078', 'V4078A', 'V4082', 'VD2002',\n",
       "       'VD2003', 'VD2004', 'VD3004', 'VD3005', 'VD3006', 'VD4001',\n",
       "       'VD4002', 'VD4003', 'VD4004', 'VD4004A', 'VD4005', 'VD4007',\n",
       "       'VD4008', 'VD4009', 'VD4010', 'VD4011', 'VD4012', 'VD4013',\n",
       "       'VD4014', 'VD4015', 'VD4016', 'VD4017', 'VD4018', 'VD4019',\n",
       "       'VD4020', 'VD4023', 'VD4030', 'VD4031', 'VD4032', 'VD4033',\n",
       "       'VD4034', 'VD4035', 'VD4036', 'VD4037', 'painel', 'idind', 'iddom',\n",
       "       'Salario/hora', 'log(Salario/hora)', 'Idade_2', 'preta', 'parda',\n",
       "       'Superior_incompleto', 'Medio_completo', 'Medio_incompleto',\n",
       "       'Fund_completo', 'Fund_incompleto', 'Sem instrução', 'filho',\n",
       "       'filho_7anos', 'data', 'num_filhos', 'num_filhos_7',\n",
       "       'filho_12anos', 'num_filhos12anos', 'num_filhos7anos', 'ocupado'],\n",
       "      dtype=object)"
      ]
     },
     "execution_count": 218,
     "metadata": {},
     "output_type": "execute_result"
    }
   ],
   "source": [
    "bq4.columns.values"
   ]
  },
  {
   "cell_type": "code",
   "execution_count": 110,
   "metadata": {},
   "outputs": [],
   "source": [
    "colunas_bq4 = ['V1016', 'V1023', 'V2001', 'V2003', 'V2007', 'V2009', 'V2010', 'V3002', 'V3007', 'V4009', \n",
    "           'VD2002', 'VD3005', 'VD4001', 'VD4002', 'VD4008', 'VD4019', 'VD4031', 'idind',\n",
    "       'Salario/hora', 'log(Salario/hora)', 'Idade_2', 'iddom', 'preta', 'parda','Superior_incompleto', 'Medio_completo', 'Medio_incompleto',\n",
    "       'Fund_completo', 'Fund_incompleto', 'Sem instrução', 'num_filhos','num_filhos7anos']"
   ]
  },
  {
   "cell_type": "markdown",
   "metadata": {},
   "source": [
    "#### Criando a variável casado"
   ]
  },
  {
   "cell_type": "code",
   "execution_count": 113,
   "metadata": {},
   "outputs": [],
   "source": [
    "bq4 = bq4[colunas_bq4].copy()"
   ]
  },
  {
   "cell_type": "code",
   "execution_count": 185,
   "metadata": {},
   "outputs": [],
   "source": [
    "bq4['casado'] = 0\n",
    "bq4.sort_values(by=['iddom','V1016','VD2002'], inplace=True)\n",
    "bq4.loc[bq4['VD2002'] == 2, 'casado'] = 1\n",
    "bq4.loc[(bq4['VD2002'] == 1) & (bq4['VD2002'].shift(-1) == 2) & (bq4['iddom'] == bq4['iddom'].shift(-1)), 'casado'] = 1"
   ]
  },
  {
   "cell_type": "code",
   "execution_count": 190,
   "metadata": {},
   "outputs": [
    {
     "data": {
      "text/plain": [
       "1    115848\n",
       "0     97448\n",
       "Name: casado, dtype: int64"
      ]
     },
     "execution_count": 190,
     "metadata": {},
     "output_type": "execute_result"
    }
   ],
   "source": [
    "bq4['casado'].value_counts()"
   ]
  },
  {
   "cell_type": "markdown",
   "metadata": {},
   "source": [
    "#### Criando a variável trabalhando"
   ]
  },
  {
   "cell_type": "code",
   "execution_count": 128,
   "metadata": {},
   "outputs": [],
   "source": [
    "bq4['ocupado'] = 0\n",
    "\n",
    "bq4.loc[bq4['VD4002'] == 1, 'ocupado'] = 1"
   ]
  },
  {
   "cell_type": "code",
   "execution_count": 129,
   "metadata": {},
   "outputs": [
    {
     "data": {
      "text/plain": [
       "0    141569\n",
       "1    129972\n",
       "Name: ocupado, dtype: int64"
      ]
     },
     "execution_count": 129,
     "metadata": {},
     "output_type": "execute_result"
    }
   ],
   "source": [
    "bq4['ocupado'].value_counts()"
   ]
  },
  {
   "cell_type": "markdown",
   "metadata": {},
   "source": [
    "#### Limitando a amostra"
   ]
  },
  {
   "cell_type": "code",
   "execution_count": 137,
   "metadata": {},
   "outputs": [
    {
     "data": {
      "text/plain": [
       "1.0    137982\n",
       "2.0     75314\n",
       "Name: VD4001, dtype: int64"
      ]
     },
     "execution_count": 137,
     "metadata": {},
     "output_type": "execute_result"
    }
   ],
   "source": [
    "# Pessoas na força de trabalho e fora da força de trabalho. O restante não respondeu.\n",
    "\n",
    "bq4['VD4001'].value_counts()"
   ]
  },
  {
   "cell_type": "code",
   "execution_count": 132,
   "metadata": {},
   "outputs": [
    {
     "data": {
      "text/plain": [
       "1.0    129972\n",
       "2.0      8010\n",
       "Name: VD4002, dtype: int64"
      ]
     },
     "execution_count": 132,
     "metadata": {},
     "output_type": "execute_result"
    }
   ],
   "source": [
    "# Pessoas ocupadas e desocupadas.\n",
    "\n",
    "bq4['VD4002'].value_counts()"
   ]
  },
  {
   "cell_type": "code",
   "execution_count": 133,
   "metadata": {},
   "outputs": [
    {
     "data": {
      "text/plain": [
       "126930"
      ]
     },
     "execution_count": 133,
     "metadata": {},
     "output_type": "execute_result"
    }
   ],
   "source": [
    "# Pessoas que possuem log salario diferente de 0.\n",
    "\n",
    "bq4['log(Salario/hora)'].value_counts().sum()"
   ]
  },
  {
   "cell_type": "markdown",
   "metadata": {},
   "source": [
    "##### Somente indivíduos que responderam a VD4001 serão considerados na base final"
   ]
  },
  {
   "cell_type": "code",
   "execution_count": 170,
   "metadata": {},
   "outputs": [],
   "source": [
    "bq4 = bq4[(bq4['VD4001'] == 1) | (bq4['VD4001'] == 2)].copy()"
   ]
  },
  {
   "cell_type": "markdown",
   "metadata": {},
   "source": [
    "#### Colocando log (salário) = 0 para todos aqueles desocupados e fora da força de trabalho"
   ]
  },
  {
   "cell_type": "code",
   "execution_count": 171,
   "metadata": {},
   "outputs": [],
   "source": [
    "bq4.loc[bq4['log(Salario/hora)'].isnull(), 'log(Salario/hora)'] = 0"
   ]
  },
  {
   "cell_type": "code",
   "execution_count": 169,
   "metadata": {
    "scrolled": true
   },
   "outputs": [
    {
     "data": {
      "text/plain": [
       "213296"
      ]
     },
     "execution_count": 169,
     "metadata": {},
     "output_type": "execute_result"
    }
   ],
   "source": [
    "# depois da mudança\n",
    "bq4['log(Salario/hora)'].value_counts().sum()"
   ]
  },
  {
   "cell_type": "code",
   "execution_count": 173,
   "metadata": {},
   "outputs": [
    {
     "data": {
      "text/plain": [
       "0.000000    86636\n",
       "0.698970     5482\n",
       "0.602060     3631\n",
       "1.000000     3070\n",
       "0.778151     2993\n",
       "            ...  \n",
       "1.465840        1\n",
       "0.472491        1\n",
       "1.675489        1\n",
       "1.156074        1\n",
       "0.264818        1\n",
       "Name: log(Salario/hora), Length: 6311, dtype: int64"
      ]
     },
     "execution_count": 173,
     "metadata": {},
     "output_type": "execute_result"
    }
   ],
   "source": [
    "bq4['log(Salario/hora)'].value_counts()"
   ]
  },
  {
   "cell_type": "markdown",
   "metadata": {},
   "source": [
    "#### Limpando e organizando as colunas"
   ]
  },
  {
   "cell_type": "code",
   "execution_count": 194,
   "metadata": {},
   "outputs": [
    {
     "data": {
      "text/plain": [
       "array(['V1016', 'V1023', 'V2001', 'V2003', 'V2007', 'V2009', 'V2010',\n",
       "       'V3002', 'V3007', 'V4009', 'VD2002', 'VD3005', 'VD4001', 'VD4002',\n",
       "       'VD4008', 'VD4019', 'VD4031', 'idind', 'Salario/hora',\n",
       "       'log(Salario/hora)', 'Idade_2', 'iddom', 'preta', 'parda',\n",
       "       'Superior_incompleto', 'Medio_completo', 'Medio_incompleto',\n",
       "       'Fund_completo', 'Fund_incompleto', 'Sem instrução', 'num_filhos',\n",
       "       'num_filhos7anos', 'casado', 'ocupado'], dtype=object)"
      ]
     },
     "execution_count": 194,
     "metadata": {},
     "output_type": "execute_result"
    }
   ],
   "source": [
    "bq4.columns.values"
   ]
  },
  {
   "cell_type": "code",
   "execution_count": 198,
   "metadata": {},
   "outputs": [],
   "source": [
    "bq4.columns = ['numentrevista','capital','pessoasdom','ordemdom','mulher','idade','raça','freqescola',\n",
    "                 'graduacao','maisumtrab','conddom','educ','forçatrab', 'ocu','servidor','salariom','horassem',\n",
    "                'id', 'salarioh', 'lsalarioh', 'idadeqdd', 'iddom', 'preta', 'parda','superiorinc','mediocom', 'medioinc','fundcom',\n",
    "                 'fundinc', 'semestudo', 'nfilhos',\n",
    "                'nfilhos7anos', 'casado', 'ocupado']"
   ]
  },
  {
   "cell_type": "code",
   "execution_count": 199,
   "metadata": {},
   "outputs": [
    {
     "data": {
      "text/html": [
       "<div>\n",
       "<style scoped>\n",
       "    .dataframe tbody tr th:only-of-type {\n",
       "        vertical-align: middle;\n",
       "    }\n",
       "\n",
       "    .dataframe tbody tr th {\n",
       "        vertical-align: top;\n",
       "    }\n",
       "\n",
       "    .dataframe thead th {\n",
       "        text-align: right;\n",
       "    }\n",
       "</style>\n",
       "<table border=\"1\" class=\"dataframe\">\n",
       "  <thead>\n",
       "    <tr style=\"text-align: right;\">\n",
       "      <th></th>\n",
       "      <th>numentrevista</th>\n",
       "      <th>capital</th>\n",
       "      <th>pessoasdom</th>\n",
       "      <th>ordemdom</th>\n",
       "      <th>mulher</th>\n",
       "      <th>idade</th>\n",
       "      <th>raça</th>\n",
       "      <th>freqescola</th>\n",
       "      <th>graduacao</th>\n",
       "      <th>maisumtrab</th>\n",
       "      <th>...</th>\n",
       "      <th>superiorinc</th>\n",
       "      <th>mediocom</th>\n",
       "      <th>medioinc</th>\n",
       "      <th>fundcom</th>\n",
       "      <th>fundinc</th>\n",
       "      <th>semestudo</th>\n",
       "      <th>nfilhos</th>\n",
       "      <th>nfilhos7anos</th>\n",
       "      <th>casado</th>\n",
       "      <th>ocupado</th>\n",
       "    </tr>\n",
       "  </thead>\n",
       "  <tbody>\n",
       "    <tr>\n",
       "      <th>1</th>\n",
       "      <td>1</td>\n",
       "      <td>0</td>\n",
       "      <td>3</td>\n",
       "      <td>1</td>\n",
       "      <td>0</td>\n",
       "      <td>41</td>\n",
       "      <td>4</td>\n",
       "      <td>0.0</td>\n",
       "      <td>NaN</td>\n",
       "      <td>0.0</td>\n",
       "      <td>...</td>\n",
       "      <td>0.0</td>\n",
       "      <td>0.0</td>\n",
       "      <td>0.0</td>\n",
       "      <td>0.0</td>\n",
       "      <td>1.0</td>\n",
       "      <td>0.0</td>\n",
       "      <td>1</td>\n",
       "      <td>1</td>\n",
       "      <td>1</td>\n",
       "      <td>1</td>\n",
       "    </tr>\n",
       "    <tr>\n",
       "      <th>7</th>\n",
       "      <td>1</td>\n",
       "      <td>0</td>\n",
       "      <td>3</td>\n",
       "      <td>2</td>\n",
       "      <td>1</td>\n",
       "      <td>26</td>\n",
       "      <td>1</td>\n",
       "      <td>0.0</td>\n",
       "      <td>NaN</td>\n",
       "      <td>NaN</td>\n",
       "      <td>...</td>\n",
       "      <td>0.0</td>\n",
       "      <td>0.0</td>\n",
       "      <td>0.0</td>\n",
       "      <td>0.0</td>\n",
       "      <td>1.0</td>\n",
       "      <td>0.0</td>\n",
       "      <td>1</td>\n",
       "      <td>1</td>\n",
       "      <td>1</td>\n",
       "      <td>0</td>\n",
       "    </tr>\n",
       "    <tr>\n",
       "      <th>2</th>\n",
       "      <td>2</td>\n",
       "      <td>0</td>\n",
       "      <td>3</td>\n",
       "      <td>1</td>\n",
       "      <td>0</td>\n",
       "      <td>41</td>\n",
       "      <td>4</td>\n",
       "      <td>0.0</td>\n",
       "      <td>NaN</td>\n",
       "      <td>0.0</td>\n",
       "      <td>...</td>\n",
       "      <td>0.0</td>\n",
       "      <td>0.0</td>\n",
       "      <td>0.0</td>\n",
       "      <td>0.0</td>\n",
       "      <td>1.0</td>\n",
       "      <td>0.0</td>\n",
       "      <td>1</td>\n",
       "      <td>0</td>\n",
       "      <td>1</td>\n",
       "      <td>1</td>\n",
       "    </tr>\n",
       "    <tr>\n",
       "      <th>9</th>\n",
       "      <td>2</td>\n",
       "      <td>0</td>\n",
       "      <td>3</td>\n",
       "      <td>2</td>\n",
       "      <td>1</td>\n",
       "      <td>26</td>\n",
       "      <td>1</td>\n",
       "      <td>0.0</td>\n",
       "      <td>NaN</td>\n",
       "      <td>0.0</td>\n",
       "      <td>...</td>\n",
       "      <td>0.0</td>\n",
       "      <td>0.0</td>\n",
       "      <td>0.0</td>\n",
       "      <td>0.0</td>\n",
       "      <td>1.0</td>\n",
       "      <td>0.0</td>\n",
       "      <td>1</td>\n",
       "      <td>0</td>\n",
       "      <td>1</td>\n",
       "      <td>1</td>\n",
       "    </tr>\n",
       "    <tr>\n",
       "      <th>3</th>\n",
       "      <td>3</td>\n",
       "      <td>0</td>\n",
       "      <td>3</td>\n",
       "      <td>1</td>\n",
       "      <td>0</td>\n",
       "      <td>41</td>\n",
       "      <td>1</td>\n",
       "      <td>0.0</td>\n",
       "      <td>NaN</td>\n",
       "      <td>0.0</td>\n",
       "      <td>...</td>\n",
       "      <td>0.0</td>\n",
       "      <td>0.0</td>\n",
       "      <td>0.0</td>\n",
       "      <td>0.0</td>\n",
       "      <td>1.0</td>\n",
       "      <td>0.0</td>\n",
       "      <td>1</td>\n",
       "      <td>0</td>\n",
       "      <td>1</td>\n",
       "      <td>1</td>\n",
       "    </tr>\n",
       "  </tbody>\n",
       "</table>\n",
       "<p>5 rows × 34 columns</p>\n",
       "</div>"
      ],
      "text/plain": [
       "   numentrevista  capital  pessoasdom  ordemdom  mulher  idade  raça  \\\n",
       "1              1        0           3         1       0     41     4   \n",
       "7              1        0           3         2       1     26     1   \n",
       "2              2        0           3         1       0     41     4   \n",
       "9              2        0           3         2       1     26     1   \n",
       "3              3        0           3         1       0     41     1   \n",
       "\n",
       "   freqescola  graduacao  maisumtrab  ...  superiorinc  mediocom  medioinc  \\\n",
       "1         0.0        NaN         0.0  ...          0.0       0.0       0.0   \n",
       "7         0.0        NaN         NaN  ...          0.0       0.0       0.0   \n",
       "2         0.0        NaN         0.0  ...          0.0       0.0       0.0   \n",
       "9         0.0        NaN         0.0  ...          0.0       0.0       0.0   \n",
       "3         0.0        NaN         0.0  ...          0.0       0.0       0.0   \n",
       "\n",
       "   fundcom  fundinc  semestudo  nfilhos  nfilhos7anos  casado  ocupado  \n",
       "1      0.0      1.0        0.0        1             1       1        1  \n",
       "7      0.0      1.0        0.0        1             1       1        0  \n",
       "2      0.0      1.0        0.0        1             0       1        1  \n",
       "9      0.0      1.0        0.0        1             0       1        1  \n",
       "3      0.0      1.0        0.0        1             0       1        1  \n",
       "\n",
       "[5 rows x 34 columns]"
      ]
     },
     "execution_count": 199,
     "metadata": {},
     "output_type": "execute_result"
    }
   ],
   "source": [
    "bq4.head()"
   ]
  },
  {
   "cell_type": "code",
   "execution_count": 200,
   "metadata": {},
   "outputs": [],
   "source": [
    "bq4 = bq4[['id','ocupado','lsalarioh','casado','nfilhos','nfilhos7anos','capital','pessoasdom','ordemdom','mulher','idade',\n",
    "          'idadeqdd','freqescola','maisumtrab','educ','forçatrab','servidor','preta','parda','superiorinc','mediocom',\n",
    "           'medioinc','fundcom','fundinc', 'semestudo']]"
   ]
  },
  {
   "cell_type": "code",
   "execution_count": 207,
   "metadata": {},
   "outputs": [
    {
     "name": "stderr",
     "output_type": "stream",
     "text": [
      "<ipython-input-207-304577ca2167>:1: SettingWithCopyWarning: \n",
      "A value is trying to be set on a copy of a slice from a DataFrame\n",
      "\n",
      "See the caveats in the documentation: https://pandas.pydata.org/pandas-docs/stable/user_guide/indexing.html#returning-a-view-versus-a-copy\n",
      "  bq4.loc[:,:].sort_values(by='id', inplace=True)\n"
     ]
    },
    {
     "data": {
      "text/html": [
       "<div>\n",
       "<style scoped>\n",
       "    .dataframe tbody tr th:only-of-type {\n",
       "        vertical-align: middle;\n",
       "    }\n",
       "\n",
       "    .dataframe tbody tr th {\n",
       "        vertical-align: top;\n",
       "    }\n",
       "\n",
       "    .dataframe thead th {\n",
       "        text-align: right;\n",
       "    }\n",
       "</style>\n",
       "<table border=\"1\" class=\"dataframe\">\n",
       "  <thead>\n",
       "    <tr style=\"text-align: right;\">\n",
       "      <th></th>\n",
       "      <th>id</th>\n",
       "      <th>ocupado</th>\n",
       "      <th>lsalarioh</th>\n",
       "      <th>casado</th>\n",
       "      <th>nfilhos</th>\n",
       "      <th>nfilhos7anos</th>\n",
       "      <th>capital</th>\n",
       "      <th>pessoasdom</th>\n",
       "      <th>ordemdom</th>\n",
       "      <th>mulher</th>\n",
       "      <th>...</th>\n",
       "      <th>forçatrab</th>\n",
       "      <th>servidor</th>\n",
       "      <th>preta</th>\n",
       "      <th>parda</th>\n",
       "      <th>superiorinc</th>\n",
       "      <th>mediocom</th>\n",
       "      <th>medioinc</th>\n",
       "      <th>fundcom</th>\n",
       "      <th>fundinc</th>\n",
       "      <th>semestudo</th>\n",
       "    </tr>\n",
       "  </thead>\n",
       "  <tbody>\n",
       "    <tr>\n",
       "      <th>1</th>\n",
       "      <td>250500000045001001</td>\n",
       "      <td>1</td>\n",
       "      <td>0.795880</td>\n",
       "      <td>1</td>\n",
       "      <td>1</td>\n",
       "      <td>1</td>\n",
       "      <td>0</td>\n",
       "      <td>3</td>\n",
       "      <td>1</td>\n",
       "      <td>0</td>\n",
       "      <td>...</td>\n",
       "      <td>1.0</td>\n",
       "      <td>0.0</td>\n",
       "      <td>0</td>\n",
       "      <td>1</td>\n",
       "      <td>0.0</td>\n",
       "      <td>0.0</td>\n",
       "      <td>0.0</td>\n",
       "      <td>0.0</td>\n",
       "      <td>1.0</td>\n",
       "      <td>0.0</td>\n",
       "    </tr>\n",
       "    <tr>\n",
       "      <th>2</th>\n",
       "      <td>250500000045001001</td>\n",
       "      <td>1</td>\n",
       "      <td>0.619789</td>\n",
       "      <td>1</td>\n",
       "      <td>1</td>\n",
       "      <td>0</td>\n",
       "      <td>0</td>\n",
       "      <td>3</td>\n",
       "      <td>1</td>\n",
       "      <td>0</td>\n",
       "      <td>...</td>\n",
       "      <td>1.0</td>\n",
       "      <td>0.0</td>\n",
       "      <td>0</td>\n",
       "      <td>1</td>\n",
       "      <td>0.0</td>\n",
       "      <td>0.0</td>\n",
       "      <td>0.0</td>\n",
       "      <td>0.0</td>\n",
       "      <td>1.0</td>\n",
       "      <td>0.0</td>\n",
       "    </tr>\n",
       "    <tr>\n",
       "      <th>3</th>\n",
       "      <td>250500000045001001</td>\n",
       "      <td>1</td>\n",
       "      <td>0.795880</td>\n",
       "      <td>1</td>\n",
       "      <td>1</td>\n",
       "      <td>0</td>\n",
       "      <td>0</td>\n",
       "      <td>3</td>\n",
       "      <td>1</td>\n",
       "      <td>0</td>\n",
       "      <td>...</td>\n",
       "      <td>1.0</td>\n",
       "      <td>0.0</td>\n",
       "      <td>0</td>\n",
       "      <td>0</td>\n",
       "      <td>0.0</td>\n",
       "      <td>0.0</td>\n",
       "      <td>0.0</td>\n",
       "      <td>0.0</td>\n",
       "      <td>1.0</td>\n",
       "      <td>0.0</td>\n",
       "    </tr>\n",
       "    <tr>\n",
       "      <th>0</th>\n",
       "      <td>250500000045001001</td>\n",
       "      <td>1</td>\n",
       "      <td>0.698970</td>\n",
       "      <td>1</td>\n",
       "      <td>1</td>\n",
       "      <td>0</td>\n",
       "      <td>0</td>\n",
       "      <td>3</td>\n",
       "      <td>1</td>\n",
       "      <td>0</td>\n",
       "      <td>...</td>\n",
       "      <td>1.0</td>\n",
       "      <td>0.0</td>\n",
       "      <td>0</td>\n",
       "      <td>0</td>\n",
       "      <td>0.0</td>\n",
       "      <td>0.0</td>\n",
       "      <td>0.0</td>\n",
       "      <td>0.0</td>\n",
       "      <td>1.0</td>\n",
       "      <td>0.0</td>\n",
       "    </tr>\n",
       "    <tr>\n",
       "      <th>4</th>\n",
       "      <td>250500000045001001</td>\n",
       "      <td>1</td>\n",
       "      <td>0.736759</td>\n",
       "      <td>1</td>\n",
       "      <td>1</td>\n",
       "      <td>0</td>\n",
       "      <td>0</td>\n",
       "      <td>3</td>\n",
       "      <td>1</td>\n",
       "      <td>0</td>\n",
       "      <td>...</td>\n",
       "      <td>1.0</td>\n",
       "      <td>0.0</td>\n",
       "      <td>0</td>\n",
       "      <td>1</td>\n",
       "      <td>0.0</td>\n",
       "      <td>0.0</td>\n",
       "      <td>0.0</td>\n",
       "      <td>0.0</td>\n",
       "      <td>1.0</td>\n",
       "      <td>0.0</td>\n",
       "    </tr>\n",
       "    <tr>\n",
       "      <th>...</th>\n",
       "      <td>...</td>\n",
       "      <td>...</td>\n",
       "      <td>...</td>\n",
       "      <td>...</td>\n",
       "      <td>...</td>\n",
       "      <td>...</td>\n",
       "      <td>...</td>\n",
       "      <td>...</td>\n",
       "      <td>...</td>\n",
       "      <td>...</td>\n",
       "      <td>...</td>\n",
       "      <td>...</td>\n",
       "      <td>...</td>\n",
       "      <td>...</td>\n",
       "      <td>...</td>\n",
       "      <td>...</td>\n",
       "      <td>...</td>\n",
       "      <td>...</td>\n",
       "      <td>...</td>\n",
       "      <td>...</td>\n",
       "      <td>...</td>\n",
       "    </tr>\n",
       "    <tr>\n",
       "      <th>271535</th>\n",
       "      <td>253530044377014003</td>\n",
       "      <td>0</td>\n",
       "      <td>0.000000</td>\n",
       "      <td>0</td>\n",
       "      <td>0</td>\n",
       "      <td>0</td>\n",
       "      <td>1</td>\n",
       "      <td>4</td>\n",
       "      <td>3</td>\n",
       "      <td>0</td>\n",
       "      <td>...</td>\n",
       "      <td>2.0</td>\n",
       "      <td>NaN</td>\n",
       "      <td>0</td>\n",
       "      <td>0</td>\n",
       "      <td>0.0</td>\n",
       "      <td>0.0</td>\n",
       "      <td>0.0</td>\n",
       "      <td>1.0</td>\n",
       "      <td>0.0</td>\n",
       "      <td>0.0</td>\n",
       "    </tr>\n",
       "    <tr>\n",
       "      <th>271537</th>\n",
       "      <td>253530044377014101</td>\n",
       "      <td>1</td>\n",
       "      <td>1.060698</td>\n",
       "      <td>1</td>\n",
       "      <td>0</td>\n",
       "      <td>0</td>\n",
       "      <td>1</td>\n",
       "      <td>2</td>\n",
       "      <td>1</td>\n",
       "      <td>0</td>\n",
       "      <td>...</td>\n",
       "      <td>1.0</td>\n",
       "      <td>1.0</td>\n",
       "      <td>0</td>\n",
       "      <td>1</td>\n",
       "      <td>0.0</td>\n",
       "      <td>0.0</td>\n",
       "      <td>0.0</td>\n",
       "      <td>0.0</td>\n",
       "      <td>0.0</td>\n",
       "      <td>0.0</td>\n",
       "    </tr>\n",
       "    <tr>\n",
       "      <th>271538</th>\n",
       "      <td>253530044377014101</td>\n",
       "      <td>1</td>\n",
       "      <td>1.021189</td>\n",
       "      <td>1</td>\n",
       "      <td>0</td>\n",
       "      <td>0</td>\n",
       "      <td>1</td>\n",
       "      <td>2</td>\n",
       "      <td>1</td>\n",
       "      <td>0</td>\n",
       "      <td>...</td>\n",
       "      <td>1.0</td>\n",
       "      <td>1.0</td>\n",
       "      <td>0</td>\n",
       "      <td>1</td>\n",
       "      <td>0.0</td>\n",
       "      <td>0.0</td>\n",
       "      <td>0.0</td>\n",
       "      <td>0.0</td>\n",
       "      <td>0.0</td>\n",
       "      <td>0.0</td>\n",
       "    </tr>\n",
       "    <tr>\n",
       "      <th>271540</th>\n",
       "      <td>253530044377014102</td>\n",
       "      <td>1</td>\n",
       "      <td>0.496809</td>\n",
       "      <td>1</td>\n",
       "      <td>0</td>\n",
       "      <td>0</td>\n",
       "      <td>1</td>\n",
       "      <td>2</td>\n",
       "      <td>2</td>\n",
       "      <td>1</td>\n",
       "      <td>...</td>\n",
       "      <td>1.0</td>\n",
       "      <td>0.0</td>\n",
       "      <td>1</td>\n",
       "      <td>0</td>\n",
       "      <td>1.0</td>\n",
       "      <td>0.0</td>\n",
       "      <td>0.0</td>\n",
       "      <td>0.0</td>\n",
       "      <td>0.0</td>\n",
       "      <td>0.0</td>\n",
       "    </tr>\n",
       "    <tr>\n",
       "      <th>271539</th>\n",
       "      <td>253530044377014102</td>\n",
       "      <td>1</td>\n",
       "      <td>0.778151</td>\n",
       "      <td>1</td>\n",
       "      <td>0</td>\n",
       "      <td>0</td>\n",
       "      <td>1</td>\n",
       "      <td>2</td>\n",
       "      <td>2</td>\n",
       "      <td>1</td>\n",
       "      <td>...</td>\n",
       "      <td>1.0</td>\n",
       "      <td>0.0</td>\n",
       "      <td>1</td>\n",
       "      <td>0</td>\n",
       "      <td>1.0</td>\n",
       "      <td>0.0</td>\n",
       "      <td>0.0</td>\n",
       "      <td>0.0</td>\n",
       "      <td>0.0</td>\n",
       "      <td>0.0</td>\n",
       "    </tr>\n",
       "  </tbody>\n",
       "</table>\n",
       "<p>213296 rows × 25 columns</p>\n",
       "</div>"
      ],
      "text/plain": [
       "                        id  ocupado  lsalarioh  casado  nfilhos  nfilhos7anos  \\\n",
       "1       250500000045001001        1   0.795880       1        1             1   \n",
       "2       250500000045001001        1   0.619789       1        1             0   \n",
       "3       250500000045001001        1   0.795880       1        1             0   \n",
       "0       250500000045001001        1   0.698970       1        1             0   \n",
       "4       250500000045001001        1   0.736759       1        1             0   \n",
       "...                    ...      ...        ...     ...      ...           ...   \n",
       "271535  253530044377014003        0   0.000000       0        0             0   \n",
       "271537  253530044377014101        1   1.060698       1        0             0   \n",
       "271538  253530044377014101        1   1.021189       1        0             0   \n",
       "271540  253530044377014102        1   0.496809       1        0             0   \n",
       "271539  253530044377014102        1   0.778151       1        0             0   \n",
       "\n",
       "        capital  pessoasdom  ordemdom  mulher  ...  forçatrab  servidor  \\\n",
       "1             0           3         1       0  ...        1.0       0.0   \n",
       "2             0           3         1       0  ...        1.0       0.0   \n",
       "3             0           3         1       0  ...        1.0       0.0   \n",
       "0             0           3         1       0  ...        1.0       0.0   \n",
       "4             0           3         1       0  ...        1.0       0.0   \n",
       "...         ...         ...       ...     ...  ...        ...       ...   \n",
       "271535        1           4         3       0  ...        2.0       NaN   \n",
       "271537        1           2         1       0  ...        1.0       1.0   \n",
       "271538        1           2         1       0  ...        1.0       1.0   \n",
       "271540        1           2         2       1  ...        1.0       0.0   \n",
       "271539        1           2         2       1  ...        1.0       0.0   \n",
       "\n",
       "        preta  parda  superiorinc  mediocom  medioinc  fundcom  fundinc  \\\n",
       "1           0      1          0.0       0.0       0.0      0.0      1.0   \n",
       "2           0      1          0.0       0.0       0.0      0.0      1.0   \n",
       "3           0      0          0.0       0.0       0.0      0.0      1.0   \n",
       "0           0      0          0.0       0.0       0.0      0.0      1.0   \n",
       "4           0      1          0.0       0.0       0.0      0.0      1.0   \n",
       "...       ...    ...          ...       ...       ...      ...      ...   \n",
       "271535      0      0          0.0       0.0       0.0      1.0      0.0   \n",
       "271537      0      1          0.0       0.0       0.0      0.0      0.0   \n",
       "271538      0      1          0.0       0.0       0.0      0.0      0.0   \n",
       "271540      1      0          1.0       0.0       0.0      0.0      0.0   \n",
       "271539      1      0          1.0       0.0       0.0      0.0      0.0   \n",
       "\n",
       "        semestudo  \n",
       "1             0.0  \n",
       "2             0.0  \n",
       "3             0.0  \n",
       "0             0.0  \n",
       "4             0.0  \n",
       "...           ...  \n",
       "271535        0.0  \n",
       "271537        0.0  \n",
       "271538        0.0  \n",
       "271540        0.0  \n",
       "271539        0.0  \n",
       "\n",
       "[213296 rows x 25 columns]"
      ]
     },
     "execution_count": 207,
     "metadata": {},
     "output_type": "execute_result"
    }
   ],
   "source": [
    "bq4.loc[:,:].sort_values(by='id', inplace=True)\n",
    "bq4"
   ]
  },
  {
   "cell_type": "code",
   "execution_count": 211,
   "metadata": {},
   "outputs": [
    {
     "name": "stderr",
     "output_type": "stream",
     "text": [
      "C:\\Users\\higor\\anaconda3\\lib\\site-packages\\pandas\\core\\indexing.py:1745: SettingWithCopyWarning: \n",
      "A value is trying to be set on a copy of a slice from a DataFrame.\n",
      "Try using .loc[row_indexer,col_indexer] = value instead\n",
      "\n",
      "See the caveats in the documentation: https://pandas.pydata.org/pandas-docs/stable/user_guide/indexing.html#returning-a-view-versus-a-copy\n",
      "  isetter(ilocs[0], value)\n"
     ]
    }
   ],
   "source": [
    "bq4.loc[:,'id'] = bq4.loc[:,'id'].astype('str')"
   ]
  },
  {
   "cell_type": "code",
   "execution_count": 212,
   "metadata": {},
   "outputs": [],
   "source": [
    "bq4.to_excel('base_pnad_q4.xlsx', index=False)"
   ]
  }
 ],
 "metadata": {
  "kernelspec": {
   "display_name": "Python 3",
   "language": "python",
   "name": "python3"
  },
  "language_info": {
   "codemirror_mode": {
    "name": "ipython",
    "version": 3
   },
   "file_extension": ".py",
   "mimetype": "text/x-python",
   "name": "python",
   "nbconvert_exporter": "python",
   "pygments_lexer": "ipython3",
   "version": "3.8.5"
  }
 },
 "nbformat": 4,
 "nbformat_minor": 4
}
